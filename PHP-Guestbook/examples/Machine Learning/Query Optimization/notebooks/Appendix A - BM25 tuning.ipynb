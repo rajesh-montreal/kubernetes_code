{
 "cells": [
  {
   "cell_type": "markdown",
   "metadata": {},
   "source": [
    "# Appendix A: Tuning BM25 parameters for the MSMARCO Document dataset\n",
    "\n",
    "The following shows a principled, data-driven approach to tuning BM25 parameters with a basic query, using the MSMARCO Document dataset. This assumes familiarity with basic query tuning as shown in the \"Query tuning\" notebooks.\n",
    "\n",
    "BM25 contains two parameters `k1` and `b`. Roughly speaking (very roughly), `k1` controls the amount of term saturation (at some point, more terms does not mean more relevant) and `b` controls the importance of document length. A deeper look into these parameters is beyond the scope of this notebook, but our [three part blog series on understanding BM25](https://www.elastic.co/blog/practical-bm25-part-1-how-shards-affect-relevance-scoring-in-elasticsearch) is very useful for that.\n",
    "\n",
    "Be aware that not all query types will see improvements with BM25 tuning. Sometimes it's more impactful to just tune query parameters. As always you try it out with your datasets first and get concrete measurements. We recommend customizing index settings/analyzers first, then do query parmeter tuning and get your baseline measurements. Next, try the best index settings/analyzers with BM25 tuning, then do query parameter tuning and see if it makes any improvement on your baseline. If there's no significant difference it's best to just stick with the default BM25 parameters for simplicty."
   ]
  },
  {
   "cell_type": "code",
   "execution_count": 1,
   "metadata": {},
   "outputs": [],
   "source": [
    "%load_ext autoreload\n",
    "%autoreload 2"
   ]
  },
  {
   "cell_type": "code",
   "execution_count": 2,
   "metadata": {},
   "outputs": [],
   "source": [
    "import importlib\n",
    "import os\n",
    "import sys\n",
    "\n",
    "from elasticsearch import Elasticsearch\n",
    "from skopt.plots import plot_objective"
   ]
  },
  {
   "cell_type": "code",
   "execution_count": 3,
   "metadata": {},
   "outputs": [],
   "source": [
    "# project library\n",
    "sys.path.insert(0, os.path.abspath('..'))\n",
    "\n",
    "import qopt\n",
    "importlib.reload(qopt)\n",
    "\n",
    "from qopt.notebooks import evaluate_mrr100_dev, optimize_bm25_mrr100\n",
    "from qopt.optimize import Config, set_bm25_parameters"
   ]
  },
  {
   "cell_type": "code",
   "execution_count": 4,
   "metadata": {},
   "outputs": [],
   "source": [
    "# use a local Elasticsearch or Cloud instance (https://cloud.elastic.co/)\n",
    "es = Elasticsearch('http://localhost:9200')\n",
    "\n",
    "# set the parallelization parameter `max_concurrent_searches` for the Rank Evaluation API calls\n",
    "max_concurrent_searches = 10\n",
    "\n",
    "index = 'msmarco-document'\n",
    "index_defaults = 'msmarco-document.defaults'\n",
    "template_id = 'combined_matches'\n",
    "\n",
    "# no query params\n",
    "query_params = {}\n",
    "\n",
    "# default Elasticsearch BM25 params\n",
    "default_bm25_params = {'k1': 1.2, 'b': 0.75}"
   ]
  },
  {
   "cell_type": "markdown",
   "metadata": {},
   "source": [
    "## Baseline evaluation\n",
    "\n",
    "For tuning the BM25 parameters, we're going to use just a `match` query per field, combined using a `bool` `should` query. This will search for query terms across the `url`, `title`, and `body` fields, and we'll be attempting to optimize the BM25 parameters that are used in the scoring function for each field. In theory, each field could have it's own BM25 [similarty](https://www.elastic.co/guide/en/elasticsearch/reference/current/index-modules-similarity.html#bm25) and parameters, but we'll leave that as an exercise to the reader.\n",
    "\n",
    "Since BM25 parameters are actually index settings in Elasticsearch (they are theoretically query parameters, but they are implemented as index settings to be consistent with other similarity modules), we need to make sure to set the parameters before any evaluation step. At optimization time, we'lll do the same process: set the BM25 parameters to try, then run the rank evaluation API on the training query dataset."
   ]
  },
  {
   "cell_type": "code",
   "execution_count": 5,
   "metadata": {},
   "outputs": [
    {
     "name": "stdout",
     "output_type": "stream",
     "text": [
      "Evaluation with: MRR@100\n",
      "Score: 0.2504\n",
      "CPU times: user 1.8 s, sys: 436 ms, total: 2.23 s\n",
      "Wall time: 57.4 s\n"
     ]
    }
   ],
   "source": [
    "%%time\n",
    "\n",
    "set_bm25_parameters(es, index, **default_bm25_params)\n",
    "\n",
    "_ = evaluate_mrr100_dev(es, max_concurrent_searches, index, template_id, query_params)"
   ]
  },
  {
   "cell_type": "markdown",
   "metadata": {},
   "source": [
    "That's the same baseline that we've seen in the \"Query tuning\" notebook, so we know we're setup correctly."
   ]
  },
  {
   "cell_type": "markdown",
   "metadata": {},
   "source": [
    "## Optimization\n",
    "\n",
    "Now we're ready to run the optimization procedure and see if we can improve on that, while holding the default query parameters constant.\n",
    "\n",
    "We know that there's [roughly a standard range](https://www.elastic.co/blog/practical-bm25-part-3-considerations-for-picking-b-and-k1-in-elasticsearch) for each parameter, so we use those. We also set internally before running the optimization some static initial points to try, based on some well-known default parameter values:\n",
    "\n",
    "  * Elasticsearch defaults: `k1`: `1.2`, `b`: `0.75`\n",
    "  * Anserini [1] defaults: `k1`: `0.9`, `b`: `0.4`\n",
    "  \n",
    "[1] [anserini](https://github.com/castorini/anserini) is a commonly used tool in academia for research into search systems"
   ]
  },
  {
   "cell_type": "code",
   "execution_count": 6,
   "metadata": {},
   "outputs": [
    {
     "name": "stdout",
     "output_type": "stream",
     "text": [
      "Optimizing parameters\n",
      " - metric: MRR@100\n",
      " - queries: data/msmarco-document-sampled-queries.1000.tsv\n",
      " - queries: data/msmarco/document/msmarco-doctrain-qrels.tsv\n",
      " - iteration 2 scored 0.2188 with: {'k1': 0.9, 'b': 0.4}\n",
      " - iteration 3 scored 0.2353 with: {'k1': 3.370604288950908, 'b': 0.6502501160664012}\n",
      " - iteration 4 scored 0.2350 with: {'k1': 4.019769356834095, 'b': 0.6559624038852268}\n",
      " - iteration 5 scored 0.2183 with: {'k1': 4.550172007175469, 'b': 0.36646469797122216}\n",
      " - iteration 6 scored 0.2197 with: {'k1': 4.510703804651055, 'b': 0.9990275259776924}\n",
      " - iteration 7 scored 0.2235 with: {'k1': 1.2557048044556212, 'b': 0.5681787231476463}\n",
      " - iteration 8 scored 0.2218 with: {'k1': 0.9492476027695534, 'b': 0.7428739712003931}\n",
      " - iteration 9 scored 0.2255 with: {'k1': 1.3366685724014589, 'b': 0.5938330471247484}\n",
      " - iteration 10 scored 0.2330 with: {'k1': 4.309783310447555, 'b': 0.7759034485189735}\n",
      " - iteration 11 scored 0.2195 with: {'k1': 1.5781739190991968, 'b': 0.3015016529905641}\n",
      " - iteration 12 scored 0.2347 with: {'k1': 2.321429376689379, 'b': 0.6884699589963544}\n",
      " - iteration 13 scored 0.2134 with: {'k1': 3.2448226638738626, 'b': 0.9900046900427262}\n",
      " - iteration 14 scored 0.2206 with: {'k1': 1.2433964265691286, 'b': 0.44356562662805726}\n",
      " - iteration 15 scored 0.2156 with: {'k1': 3.100612400611909, 'b': 0.9849404289368413}\n",
      " - iteration 16 scored 0.2257 with: {'k1': 4.248042138475732, 'b': 0.9035284880309848}\n",
      " - iteration 17 scored 0.2224 with: {'k1': 1.5765807997258139, 'b': 0.8720332943348184}\n",
      " - iteration 18 scored 0.2305 with: {'k1': 2.820111431030238, 'b': 0.5168856770938441}\n",
      " - iteration 19 scored 0.2224 with: {'k1': 2.1959597161860107, 'b': 0.9250145634446965}\n",
      " - iteration 20 scored 0.2257 with: {'k1': 4.442190681266682, 'b': 0.9260152008360161}\n",
      " - iteration 21 scored 0.2242 with: {'k1': 3.064655836349819, 'b': 0.3791113353101573}\n",
      " - iteration 22 scored 0.2187 with: {'k1': 3.5202769215682608, 'b': 0.9588940533178607}\n",
      " - iteration 23 scored 0.2325 with: {'k1': 5.0, 'b': 0.7043761223003595}\n",
      " - iteration 24 scored 0.2159 with: {'k1': 0.5095249433797535, 'b': 0.9952556818182101}\n",
      " - iteration 25 scored 0.2283 with: {'k1': 4.99733655784174, 'b': 0.5513516063009762}\n",
      " - iteration 26 scored 0.2353 with: {'k1': 3.0693561332209263, 'b': 0.7097705952925664}\n",
      " - iteration 27 scored 0.2302 with: {'k1': 4.997079968717751, 'b': 0.8338225591267308}\n",
      " - iteration 28 scored 0.2349 with: {'k1': 2.9298189101138057, 'b': 0.6705355989029556}\n",
      " - iteration 29 scored 0.2286 with: {'k1': 3.9017616725688504, 'b': 0.5275669866319284}\n",
      " - iteration 30 scored 0.2126 with: {'k1': 0.5083768089070996, 'b': 0.3051975488098463}\n",
      " - iteration 31 scored 0.2335 with: {'k1': 3.057438645555967, 'b': 0.7943805950296335}\n",
      " - iteration 32 scored 0.2356 with: {'k1': 3.4996216258157684, 'b': 0.7046625041391483}\n",
      " - iteration 33 scored 0.2130 with: {'k1': 4.988190005294321, 'b': 0.301967374589563}\n",
      " - iteration 34 scored 0.2157 with: {'k1': 0.511035678225668, 'b': 0.5863790923927636}\n",
      " - iteration 35 scored 0.2206 with: {'k1': 3.6684915070895987, 'b': 0.300110477096296}\n",
      " - iteration 36 scored 0.2205 with: {'k1': 4.989302876768119, 'b': 0.9832605278104865}\n",
      " - iteration 37 scored 0.2305 with: {'k1': 2.3444431239676398, 'b': 0.6014003085957186}\n",
      " - iteration 38 scored 0.2325 with: {'k1': 2.4639270689494523, 'b': 0.7717536517097305}\n",
      " - iteration 39 scored 0.2358 with: {'k1': 3.4589142889460534, 'b': 0.7043929438792035}\n",
      " - iteration 40 scored 0.2329 with: {'k1': 4.415526839360014, 'b': 0.6737248394761717}\n",
      "Best score: 0.2358\n",
      "Best params: {'k1': 3.4589142889460534, 'b': 0.7043929438792035}\n",
      "Final params: {'k1': 3.4589142889460534, 'b': 0.7043929438792035}\n",
      "\n",
      "CPU times: user 37.3 s, sys: 9.16 s, total: 46.4 s\n",
      "Wall time: 7min 13s\n"
     ]
    }
   ],
   "source": [
    "%%time\n",
    "\n",
    "_, best_params, _, metadata = optimize_bm25_mrr100(es, max_concurrent_searches, index, template_id, query_params,\n",
    "    config_space=Config.parse({\n",
    "        'method': 'bayesian',\n",
    "        'num_iterations': 40,\n",
    "        'num_initial_points': 20,\n",
    "        'space': {\n",
    "            'k1': { 'low': 0.5, 'high': 5.0 },\n",
    "            'b': { 'low': 0.3, 'high': 1.0 },\n",
    "        }\n",
    "    }))"
   ]
  },
  {
   "cell_type": "markdown",
   "metadata": {},
   "source": [
    "Here's a look at the parameter space, which is easy to plot here since there are just two parameters. "
   ]
  },
  {
   "cell_type": "code",
   "execution_count": 7,
   "metadata": {},
   "outputs": [
    {
     "data": {
      "image/png": "[encoded data removed]",
      "text/plain": [
       "<Figure size 288x288 with 4 Axes>"
      ]
     },
     "metadata": {
      "needs_background": "light"
     },
     "output_type": "display_data"
    }
   ],
   "source": [
    "_ = plot_objective(metadata, sample_source='result')"
   ]
  },
  {
   "cell_type": "code",
   "execution_count": 8,
   "metadata": {},
   "outputs": [
    {
     "name": "stdout",
     "output_type": "stream",
     "text": [
      "Evaluation with: MRR@100\n",
      "Score: 0.2594\n",
      "CPU times: user 1.92 s, sys: 534 ms, total: 2.45 s\n",
      "Wall time: 34.2 s\n"
     ]
    }
   ],
   "source": [
    "%%time\n",
    "\n",
    "set_bm25_parameters(es, index, **best_params)\n",
    "\n",
    "_ = evaluate_mrr100_dev(es, max_concurrent_searches, index, template_id, query_params)"
   ]
  },
  {
   "cell_type": "markdown",
   "metadata": {},
   "source": [
    "Interesting that we do see an improvement but it's not very significant. One hypothesis is that maybe our analyzers are doing work that means there's not much left to tune. Let's try this again but using the default analyzers with the index `msmarco-document.defaults`.\n",
    "\n",
    "First we set the baseline that we're comparing against. We expect it to be lower than the baseline with the custom analyzers. We saw this in the \"Analyzers\" notebook as well already."
   ]
  },
  {
   "cell_type": "code",
   "execution_count": 9,
   "metadata": {},
   "outputs": [
    {
     "name": "stdout",
     "output_type": "stream",
     "text": [
      "Evaluation with: MRR@100\n",
      "Score: 0.2403\n",
      "CPU times: user 2.19 s, sys: 687 ms, total: 2.88 s\n",
      "Wall time: 4min 12s\n"
     ]
    }
   ],
   "source": [
    "%%time\n",
    "\n",
    "set_bm25_parameters(es, index_defaults, **default_bm25_params)\n",
    "\n",
    "_ = evaluate_mrr100_dev(es, max_concurrent_searches, index_defaults, template_id, query_params)"
   ]
  },
  {
   "cell_type": "markdown",
   "metadata": {},
   "source": [
    "Now let's optimize BM25. Before we do that, let's also increase the possible range of `k1` to make sure we really see a maximum score from somewhere within the range and not at a maximum or minumum value in the range."
   ]
  },
  {
   "cell_type": "code",
   "execution_count": 10,
   "metadata": {},
   "outputs": [
    {
     "name": "stdout",
     "output_type": "stream",
     "text": [
      "Optimizing parameters\n",
      " - metric: MRR@100\n",
      " - queries: data/msmarco-document-sampled-queries.1000.tsv\n",
      " - queries: data/msmarco/document/msmarco-doctrain-qrels.tsv\n",
      " - iteration 2 scored 0.1971 with: {'k1': 0.9, 'b': 0.4}\n",
      " - iteration 3 scored 0.2322 with: {'k1': 9.366588476277936, 'b': 0.9122525300318791}\n",
      " - iteration 4 scored 0.2316 with: {'k1': 7.686680435518605, 'b': 0.965864493675082}\n",
      " - iteration 5 scored 0.2311 with: {'k1': 4.708495188944252, 'b': 0.9897547197883692}\n",
      " - iteration 6 scored 0.2193 with: {'k1': 2.2191277453389286, 'b': 0.5833472558883774}\n",
      " - iteration 7 scored 0.2075 with: {'k1': 1.8637850192899095, 'b': 0.33066321867136744}\n",
      " - iteration 8 scored 0.2162 with: {'k1': 8.500016824528396, 'b': 0.4732893649921234}\n",
      " - iteration 9 scored 0.2334 with: {'k1': 8.695331165873956, 'b': 0.777763765282391}\n",
      " - iteration 10 scored 0.2211 with: {'k1': 6.6069084823926785, 'b': 0.4931126256092313}\n",
      " - iteration 11 scored 0.2323 with: {'k1': 3.9716925801549317, 'b': 0.789458535906953}\n",
      " - iteration 12 scored 0.2296 with: {'k1': 7.920852515269264, 'b': 0.6185896788819574}\n",
      " - iteration 13 scored 0.2216 with: {'k1': 8.915241868366156, 'b': 0.5437007468174074}\n",
      " - iteration 14 scored 0.2330 with: {'k1': 5.392068599651512, 'b': 0.9186285857951679}\n",
      " - iteration 15 scored 0.2295 with: {'k1': 3.533909409201588, 'b': 0.7528902498382744}\n",
      " - iteration 16 scored 0.2244 with: {'k1': 8.8184645432699, 'b': 0.5799126262153195}\n",
      " - iteration 17 scored 0.2273 with: {'k1': 2.8135971669290103, 'b': 0.7889466377425964}\n",
      " - iteration 18 scored 0.2014 with: {'k1': 9.145845177402188, 'b': 0.31185829070298027}\n",
      " - iteration 19 scored 0.2315 with: {'k1': 4.4328876802271875, 'b': 0.9507508612887927}\n",
      " - iteration 20 scored 0.2320 with: {'k1': 9.352259421691345, 'b': 0.8344089113424735}\n",
      " - iteration 21 scored 0.2273 with: {'k1': 3.1522234771907107, 'b': 0.6110758904141731}\n",
      " - iteration 22 scored 0.2340 with: {'k1': 7.3374384483422, 'b': 0.7719563621035682}\n",
      " - iteration 23 scored 0.2326 with: {'k1': 8.767607027519459, 'b': 0.8774312063539391}\n",
      " - iteration 24 scored 0.2313 with: {'k1': 7.922646685993378, 'b': 0.9985661801837202}\n",
      " - iteration 25 scored 0.2131 with: {'k1': 4.389625903062928, 'b': 0.3542951941958561}\n",
      " - iteration 26 scored 0.1938 with: {'k1': 0.6205448165411873, 'b': 0.6224925769663106}\n",
      " - iteration 27 scored 0.2287 with: {'k1': 3.7684467183155284, 'b': 0.600271959696131}\n",
      " - iteration 28 scored 0.2174 with: {'k1': 2.1701193887485744, 'b': 0.9999488081108343}\n",
      " - iteration 29 scored 0.2354 with: {'k1': 5.828159898858229, 'b': 0.7719838762662773}\n",
      " - iteration 30 scored 0.2300 with: {'k1': 9.9827068363004, 'b': 0.989345590975901}\n",
      " - iteration 31 scored 0.2286 with: {'k1': 9.984714107787202, 'b': 0.6861408100601032}\n",
      " - iteration 32 scored 0.1973 with: {'k1': 0.5195974810639052, 'b': 0.9953501455735756}\n",
      " - iteration 33 scored 0.2303 with: {'k1': 6.195281827906322, 'b': 0.9993976796079878}\n",
      " - iteration 34 scored 0.2341 with: {'k1': 5.290242371701985, 'b': 0.652192471490742}\n",
      " - iteration 35 scored 0.2088 with: {'k1': 9.998266803887867, 'b': 0.4339358294845449}\n",
      " - iteration 36 scored 0.2347 with: {'k1': 5.449034480156674, 'b': 0.7552450332007592}\n",
      " - iteration 37 scored 0.2071 with: {'k1': 6.327982115527028, 'b': 0.30056887214460487}\n",
      " - iteration 38 scored 0.2339 with: {'k1': 6.528609504538238, 'b': 0.6803617299895912}\n",
      " - iteration 39 scored 0.2370 with: {'k1': 5.994170123620659, 'b': 0.7581664207056278}\n",
      " - iteration 40 scored 0.2364 with: {'k1': 6.1417373498200725, 'b': 0.7747204729965538}\n",
      " - iteration 41 scored 0.2329 with: {'k1': 9.997230190691027, 'b': 0.8357271023009853}\n",
      " - iteration 42 scored 0.2333 with: {'k1': 6.778389330336129, 'b': 0.8748418805014009}\n",
      " - iteration 43 scored 0.2295 with: {'k1': 9.087010044489327, 'b': 0.9973373546527946}\n",
      " - iteration 44 scored 0.2369 with: {'k1': 5.971570075456772, 'b': 0.7608668317330948}\n",
      " - iteration 45 scored 0.2369 with: {'k1': 5.97943054666231, 'b': 0.7611566503940015}\n",
      " - iteration 46 scored 0.2276 with: {'k1': 3.5784090801590605, 'b': 0.9976789751466888}\n",
      " - iteration 47 scored 0.2288 with: {'k1': 5.073838019026589, 'b': 0.5559158529843481}\n",
      " - iteration 48 scored 0.1793 with: {'k1': 0.5574413687903708, 'b': 0.30200774154371435}\n",
      " - iteration 49 scored 0.2178 with: {'k1': 3.164686951327865, 'b': 0.459305905707028}\n",
      " - iteration 50 scored 0.2342 with: {'k1': 4.819909710076562, 'b': 0.7812274358256605}\n",
      "Best score: 0.2370\n",
      "Best params: {'k1': 5.994170123620659, 'b': 0.7581664207056278}\n",
      "Final params: {'k1': 5.994170123620659, 'b': 0.7581664207056278}\n",
      "\n",
      "CPU times: user 54 s, sys: 14.3 s, total: 1min 8s\n",
      "Wall time: 13min 50s\n"
     ]
    }
   ],
   "source": [
    "%%time\n",
    "\n",
    "_, best_params, _, metadata = optimize_bm25_mrr100(es, max_concurrent_searches, index_defaults, template_id, query_params,\n",
    "    config_space=Config.parse({\n",
    "        'method': 'bayesian',\n",
    "        'num_iterations': 50,\n",
    "        'num_initial_points': 25,\n",
    "        'space': {\n",
    "            'k1': { 'low': 0.5, 'high': 10.0 },\n",
    "            'b': { 'low': 0.3, 'high': 1.0 },\n",
    "        }\n",
    "    }))"
   ]
  },
  {
   "cell_type": "code",
   "execution_count": 11,
   "metadata": {},
   "outputs": [
    {
     "data": {
      "image/png": "[encoded data removed]",
      "text/plain": [
       "<Figure size 288x288 with 4 Axes>"
      ]
     },
     "metadata": {
      "needs_background": "light"
     },
     "output_type": "display_data"
    }
   ],
   "source": [
    "_ = plot_objective(metadata, sample_source='result')"
   ]
  },
  {
   "cell_type": "code",
   "execution_count": 12,
   "metadata": {},
   "outputs": [
    {
     "name": "stdout",
     "output_type": "stream",
     "text": [
      "Evaluation with: MRR@100\n",
      "Score: 0.2661\n",
      "CPU times: user 2 s, sys: 651 ms, total: 2.65 s\n",
      "Wall time: 1min 6s\n"
     ]
    }
   ],
   "source": [
    "%%time\n",
    "\n",
    "set_bm25_parameters(es, index_defaults, **best_params)\n",
    "\n",
    "_ = evaluate_mrr100_dev(es, max_concurrent_searches, index_defaults, template_id, query_params)"
   ]
  },
  {
   "cell_type": "markdown",
   "metadata": {},
   "source": [
    "That's a much larger improvement over the baseline, and actually this optimized version with the default analyzers beats the tuned version with the custom analyzers! Goes to show you that you can't make assumptions — you need to test your hypothesis!"
   ]
  },
  {
   "cell_type": "markdown",
   "metadata": {},
   "source": [
    "## Conclusion"
   ]
  },
  {
   "cell_type": "markdown",
   "metadata": {},
   "source": [
    "Before we wrap up, it's good to set all the indices back to their default values, in case we use those indices for other experiments."
   ]
  },
  {
   "cell_type": "code",
   "execution_count": 13,
   "metadata": {},
   "outputs": [],
   "source": [
    "set_bm25_parameters(es, index, **default_bm25_params)\n",
    "set_bm25_parameters(es, index_defaults, **default_bm25_params)"
   ]
  },
  {
   "cell_type": "markdown",
   "metadata": {},
   "source": [
    "We've shown a very simple but principled way to tune BM25 parameters `k1` and `b`. We've used a similar approach as when optimizing query parameters. In this case, it was useful to rely on Bayesian optimization since we set a pretty wide range over parameters. Stepping through each 1/10th or 1/100th of each parameter in a grid search would be very time consuming indeed."
   ]
  },
  {
   "cell_type": "code",
   "execution_count": null,
   "metadata": {},
   "outputs": [],
   "source": []
  }
 ],
 "metadata": {
  "kernelspec": {
   "display_name": "Python 3",
   "language": "python",
   "name": "python3"
  },
  "language_info": {
   "codemirror_mode": {
    "name": "ipython",
    "version": 3
   },
   "file_extension": ".py",
   "mimetype": "text/x-python",
   "name": "python",
   "nbconvert_exporter": "python",
   "pygments_lexer": "ipython3",
   "version": "3.7.7"
  }
 },
 "nbformat": 4,
 "nbformat_minor": 4
}
