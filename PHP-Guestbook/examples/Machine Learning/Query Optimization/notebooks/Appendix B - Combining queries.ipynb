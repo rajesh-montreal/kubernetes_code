{
 "cells": [
  {
   "cell_type": "markdown",
   "metadata": {},
   "source": [
    "# Appendix B: Combining queries\n",
    "\n",
    "In this example, we'll walk through the process of building a more complex query for the MSMARCO Document dataset. This assumes that you are familiar with the other query tuning notebooks. We'll be using the `cross_fields` and `best_fields` queries and the optimal parameters found as the foundation on which we build a more complex query.\n",
    "\n",
    "As with the previous notebook and in accordance with the MSMARCO Document ranking task, we'll continue to use MRR@100 on the `dev` dataset for evaluation and comparison with other approaches."
   ]
  },
  {
   "cell_type": "code",
   "execution_count": 1,
   "metadata": {},
   "outputs": [],
   "source": [
    "%load_ext autoreload\n",
    "%autoreload 2"
   ]
  },
  {
   "cell_type": "code",
   "execution_count": 2,
   "metadata": {},
   "outputs": [],
   "source": [
    "import importlib\n",
    "import os\n",
    "import sys\n",
    "\n",
    "from elasticsearch import Elasticsearch\n",
    "from skopt.plots import plot_objective"
   ]
  },
  {
   "cell_type": "code",
   "execution_count": 3,
   "metadata": {},
   "outputs": [],
   "source": [
    "# project library\n",
    "sys.path.insert(0, os.path.abspath('..'))\n",
    "\n",
    "import qopt\n",
    "importlib.reload(qopt)\n",
    "\n",
    "from qopt.notebooks import evaluate_mrr100_dev, optimize_query_mrr100\n",
    "from qopt.optimize import Config"
   ]
  },
  {
   "cell_type": "code",
   "execution_count": 4,
   "metadata": {},
   "outputs": [],
   "source": [
    "# use a local Elasticsearch or Cloud instance (https://cloud.elastic.co/)\n",
    "# es = Elasticsearch('http://localhost:9200')\n",
    "es = Elasticsearch('http://35.246.195.44:9200')\n",
    "\n",
    "# set the parallelization parameter `max_concurrent_searches` for the Rank Evaluation API calls\n",
    "# max_concurrent_searches = 10\n",
    "max_concurrent_searches = 30\n",
    "\n",
    "index = 'msmarco-document'\n",
    "template_id = 'combined'"
   ]
  },
  {
   "cell_type": "markdown",
   "metadata": {},
   "source": [
    "## Combining `cross_fields` and `best_fields`\n",
    "\n",
    "Based on previous tuning, we have the following optimal parameters for each `multi_match` query type."
   ]
  },
  {
   "cell_type": "code",
   "execution_count": 5,
   "metadata": {},
   "outputs": [],
   "source": [
    "cross_fields_params = {\n",
    "    'operator': 'OR',\n",
    "    'minimum_should_match': 50,\n",
    "    'tie_breaker': 0.25,\n",
    "    'url|boost': 1.0129720302556104,\n",
    "    'title|boost': 5.818478716515356,\n",
    "    'body|boost': 3.736613263685484,\n",
    "}\n",
    "\n",
    "best_fields_params = {\n",
    "    'tie_breaker': 0.3936135232328522,\n",
    "    'url|boost': 0.0,\n",
    "    'title|boost': 8.63280262513067,\n",
    "    'body|boost': 10.0,\n",
    "}"
   ]
  },
  {
   "cell_type": "markdown",
   "metadata": {},
   "source": [
    "We've seen the process to optimize field boosts on two different `multi_match` queries but it would be interesting to see if combining them in some way might actually result in even better MRR@100. Let's give it a shot and find out.\n",
    "\n",
    "Side note: Combining queries where each sub-query is always executed may improve relevance but it will hurt performance and the query times will be quite a lot higher than with a single, simpler query. Keep this in mind when building complex queries for production!"
   ]
  },
  {
   "cell_type": "code",
   "execution_count": 6,
   "metadata": {},
   "outputs": [
    {
     "data": {
      "text/plain": [
       "{'cross_fields|operator': 'OR',\n",
       " 'cross_fields|minimum_should_match': 50,\n",
       " 'cross_fields|tie_breaker': 0.25,\n",
       " 'cross_fields|url|boost': 1.0129720302556104,\n",
       " 'cross_fields|title|boost': 5.818478716515356,\n",
       " 'cross_fields|body|boost': 3.736613263685484,\n",
       " 'cross_fields|boost': 1.0,\n",
       " 'best_fields|tie_breaker': 0.3936135232328522,\n",
       " 'best_fields|url|boost': 0.0,\n",
       " 'best_fields|title|boost': 8.63280262513067,\n",
       " 'best_fields|body|boost': 10.0,\n",
       " 'best_fields|boost': 1.0}"
      ]
     },
     "execution_count": 6,
     "metadata": {},
     "output_type": "execute_result"
    }
   ],
   "source": [
    "def prefix_keys(d, prefix):\n",
    "    return {f'{prefix}{k}': v for k, v in d.items()}\n",
    "\n",
    "# prefix key of each sub-query\n",
    "# add default boosts\n",
    "all_params = {\n",
    "    **prefix_keys(cross_fields_params, 'cross_fields|'),\n",
    "    'cross_fields|boost': 1.0,\n",
    "    **prefix_keys(best_fields_params, 'best_fields|'),\n",
    "    'best_fields|boost': 1.0,\n",
    "}\n",
    "all_params"
   ]
  },
  {
   "cell_type": "markdown",
   "metadata": {},
   "source": [
    "## Baseline evaluation"
   ]
  },
  {
   "cell_type": "code",
   "execution_count": 7,
   "metadata": {},
   "outputs": [
    {
     "name": "stdout",
     "output_type": "stream",
     "text": [
      "Evaluation with: MRR@100\n",
      "Score: 0.3083\n",
      "CPU times: user 1.97 s, sys: 686 ms, total: 2.66 s\n",
      "Wall time: 4min 32s\n"
     ]
    }
   ],
   "source": [
    "%%time\n",
    "\n",
    "_ = evaluate_mrr100_dev(es, max_concurrent_searches, index, template_id, params=all_params)"
   ]
  },
  {
   "cell_type": "markdown",
   "metadata": {},
   "source": [
    "## Query tuning\n",
    "\n",
    "Here we'll just tune the boosts for each sub-query. Note that this takes twice as long as tuning individual queries because we have two queries combined."
   ]
  },
  {
   "cell_type": "code",
   "execution_count": 8,
   "metadata": {},
   "outputs": [
    {
     "name": "stdout",
     "output_type": "stream",
     "text": [
      "Optimizing parameters\n",
      " - metric: MRR@100\n",
      " - queries: data/msmarco-document-sampled-queries.1000.tsv\n",
      " - queries: data/msmarco/document/msmarco-doctrain-qrels.tsv\n",
      " - iteration 1 scored 0.2805 with: {'cross_fields|boost': 3.896685922580469, 'best_fields|boost': 2.650422982146484}\n",
      " - iteration 2 scored 0.2812 with: {'cross_fields|boost': 0.7870601079131091, 'best_fields|boost': 0.8510910404952616}\n",
      " - iteration 3 scored 0.2812 with: {'cross_fields|boost': 3.250176544662946, 'best_fields|boost': 3.425823541294568}\n",
      " - iteration 4 scored 0.2798 with: {'cross_fields|boost': 4.014420699567866, 'best_fields|boost': 1.7532333149891575}\n",
      " - iteration 5 scored 0.2741 with: {'cross_fields|boost': 2.7888523112917554, 'best_fields|boost': 0.37349976261196355}\n",
      " - iteration 6 scored 0.2789 with: {'cross_fields|boost': 1.0211402631272501, 'best_fields|boost': 4.935530516183548}\n",
      " - iteration 7 scored 0.2789 with: {'cross_fields|boost': 1.8255603541324559, 'best_fields|boost': 3.486062377887463}\n",
      " - iteration 8 scored 0.2740 with: {'cross_fields|boost': 4.497190799085895, 'best_fields|boost': 0.6340397795670584}\n",
      " - iteration 9 scored 0.2810 with: {'cross_fields|boost': 1.5779546258471802, 'best_fields|boost': 1.8404702184967972}\n",
      " - iteration 10 scored 0.2810 with: {'cross_fields|boost': 4.8526018215319935, 'best_fields|boost': 2.7622315541562603}\n",
      " - iteration 11 scored 0.2802 with: {'cross_fields|boost': 3.5532712052074915, 'best_fields|boost': 1.8953710215598645}\n",
      " - iteration 12 scored 0.2798 with: {'cross_fields|boost': 3.731302823701837, 'best_fields|boost': 4.987587383054652}\n",
      " - iteration 13 scored 0.2758 with: {'cross_fields|boost': 2.4645378742324544, 'best_fields|boost': 0.46439094045581114}\n",
      " - iteration 14 scored 0.2790 with: {'cross_fields|boost': 0.2986054576725506, 'best_fields|boost': 1.0894228468949338}\n",
      " - iteration 15 scored 0.2782 with: {'cross_fields|boost': 1.4445863095010816, 'best_fields|boost': 4.18343122346622}\n",
      " - iteration 16 scored 0.2808 with: {'cross_fields|boost': 4.999608062630131, 'best_fields|boost': 4.070685933073027}\n",
      " - iteration 17 scored 0.2805 with: {'cross_fields|boost': 5.0, 'best_fields|boost': 3.3981488280472427}\n",
      " - iteration 18 scored 0.2739 with: {'cross_fields|boost': 0.06305474916625088, 'best_fields|boost': 0.00709268279107056}\n",
      " - iteration 19 scored 0.2781 with: {'cross_fields|boost': 0.0, 'best_fields|boost': 2.2504561133876115}\n",
      " - iteration 20 scored 0.2808 with: {'cross_fields|boost': 5.0, 'best_fields|boost': 3.1224424489199123}\n",
      " - iteration 21 scored 0.2808 with: {'cross_fields|boost': 4.9606046747383505, 'best_fields|boost': 4.996794505598459}\n",
      " - iteration 22 scored 0.2783 with: {'cross_fields|boost': 0.08243871186606967, 'best_fields|boost': 2.960988317746084}\n",
      " - iteration 23 scored 0.2783 with: {'cross_fields|boost': 0.0032683432995433974, 'best_fields|boost': 4.96308585491223}\n",
      " - iteration 24 scored 0.2809 with: {'cross_fields|boost': 5.0, 'best_fields|boost': 4.398771898333286}\n",
      " - iteration 25 scored 0.2707 with: {'cross_fields|boost': 4.9258372188450315, 'best_fields|boost': 0.0113675716399686}\n",
      " - iteration 26 scored 0.2782 with: {'cross_fields|boost': 0.01735658022776088, 'best_fields|boost': 3.883207339826874}\n",
      " - iteration 27 scored 0.2788 with: {'cross_fields|boost': 2.533365973395604, 'best_fields|boost': 4.985769547678409}\n",
      " - iteration 28 scored 0.2791 with: {'cross_fields|boost': 4.9902174948096825, 'best_fields|boost': 1.7179977225598861}\n",
      " - iteration 29 scored 0.2803 with: {'cross_fields|boost': 5.0, 'best_fields|boost': 3.7029463719898907}\n",
      " - iteration 30 scored 0.2783 with: {'cross_fields|boost': 0.00027091626548514386, 'best_fields|boost': 1.5649612427277535}\n",
      "Best score: 0.2812\n",
      "Best params: {'cross_fields|boost': 0.7870601079131091, 'best_fields|boost': 0.8510910404952616}\n",
      "Final params: {'cross_fields|operator': 'OR', 'cross_fields|minimum_should_match': 50, 'cross_fields|tie_breaker': 0.25, 'cross_fields|url|boost': 1.0129720302556104, 'cross_fields|title|boost': 5.818478716515356, 'cross_fields|body|boost': 3.736613263685484, 'cross_fields|boost': 0.7870601079131091, 'best_fields|tie_breaker': 0.3936135232328522, 'best_fields|url|boost': 0.0, 'best_fields|title|boost': 8.63280262513067, 'best_fields|body|boost': 10.0, 'best_fields|boost': 0.8510910404952616}\n",
      "\n",
      "CPU times: user 26.7 s, sys: 7.08 s, total: 33.8 s\n",
      "Wall time: 24min 38s\n"
     ]
    }
   ],
   "source": [
    "%%time\n",
    "\n",
    "_, _, final_params_boosts, metadata_boosts = optimize_query_mrr100(es, max_concurrent_searches, index, template_id,\n",
    "    config_space=Config.parse({\n",
    "        'num_iterations': 30,\n",
    "        'num_initial_points': 15,\n",
    "        'space': {\n",
    "            'cross_fields|boost': { 'low': 0.0, 'high': 5.0 },\n",
    "            'best_fields|boost': { 'low': 0.0, 'high': 5.0 },\n",
    "        },\n",
    "        'default': all_params,\n",
    "    }))"
   ]
  },
  {
   "cell_type": "code",
   "execution_count": 9,
   "metadata": {},
   "outputs": [
    {
     "data": {
      "image/png": "[encoded data removed]",
      "text/plain": [
       "<Figure size 288x288 with 4 Axes>"
      ]
     },
     "metadata": {
      "needs_background": "light"
     },
     "output_type": "display_data"
    }
   ],
   "source": [
    "_ = plot_objective(metadata_boosts, sample_source='result')"
   ]
  },
  {
   "cell_type": "markdown",
   "metadata": {},
   "source": [
    "Seems that there's not much to tune here, but let's keep going."
   ]
  },
  {
   "cell_type": "code",
   "execution_count": 10,
   "metadata": {},
   "outputs": [
    {
     "name": "stdout",
     "output_type": "stream",
     "text": [
      "Evaluation with: MRR@100\n",
      "Score: 0.3083\n",
      "CPU times: user 2.26 s, sys: 678 ms, total: 2.94 s\n",
      "Wall time: 4min 7s\n"
     ]
    }
   ],
   "source": [
    "%%time\n",
    "\n",
    "_ = evaluate_mrr100_dev(es, max_concurrent_searches, index, template_id, params=final_params_boosts)"
   ]
  },
  {
   "cell_type": "markdown",
   "metadata": {},
   "source": [
    "So that's the same as without tuning. What's going on?"
   ]
  },
  {
   "cell_type": "markdown",
   "metadata": {},
   "source": [
    "## Debugging\n",
    "\n",
    "Plot scores from each sub-query to determine why we don't really see an improvement over individual queries."
   ]
  },
  {
   "cell_type": "code",
   "execution_count": 11,
   "metadata": {},
   "outputs": [],
   "source": [
    "import matplotlib.pyplot as plt\n",
    "from itertools import chain\n",
    "\n",
    "from qopt.notebooks import ROOT_DIR\n",
    "from qopt.search import temporary_search_template, search_template\n",
    "from qopt.trec import load_queries_as_tuple_list, load_qrels"
   ]
  },
  {
   "cell_type": "code",
   "execution_count": 12,
   "metadata": {},
   "outputs": [],
   "source": [
    "def collect_scores():\n",
    "    \n",
    "    def _search(template_id, query_string, params, doc_id):\n",
    "        res = search_template(es, index, template_id, query={\n",
    "            'id': 0,\n",
    "            'params': {\n",
    "                'query_string': query_string,\n",
    "                **params,\n",
    "            },\n",
    "        })\n",
    "        return [hit['score'] for hit in res['hits'] if hit['id'] == doc_id]\n",
    "\n",
    "    queries = load_queries_as_tuple_list(os.path.join(ROOT_DIR, 'data', 'msmarco-document-sampled-queries.1000.tsv'))\n",
    "    qrels = load_qrels(os.path.join(ROOT_DIR, 'data', 'msmarco', 'document', 'msmarco-doctrain-qrels.tsv'))\n",
    "    template_file = os.path.join(ROOT_DIR, 'config', 'msmarco-document-templates.json')\n",
    "    size = 100\n",
    "    \n",
    "    cross_field_scores = []\n",
    "    best_field_scores = []\n",
    "    \n",
    "    with temporary_search_template(es, template_file, 'cross_fields', size) as cross_fields_template_id:\n",
    "        with temporary_search_template(es, template_file, 'best_fields', size) as best_fields_template_id:\n",
    "            for query in queries:\n",
    "                doc_id = list(qrels[query[0]].keys())[0]\n",
    "                \n",
    "                cfs = _search(cross_fields_template_id, query[1], cross_fields_params, doc_id)\n",
    "                bfs = _search(best_fields_template_id, query[1], best_fields_params, doc_id)\n",
    "\n",
    "                # keep just n scores to make sure the lists are the same length\n",
    "                length = min(len(cfs), len(bfs))\n",
    "                cross_field_scores.append(cfs[:length])\n",
    "                best_field_scores.append(bfs[:length])\n",
    "\n",
    "    return cross_field_scores, best_field_scores"
   ]
  },
  {
   "cell_type": "code",
   "execution_count": 13,
   "metadata": {},
   "outputs": [],
   "source": [
    "cfs, bfs = collect_scores()"
   ]
  },
  {
   "cell_type": "code",
   "execution_count": 14,
   "metadata": {},
   "outputs": [
    {
     "data": {
      "image/png": "[encoded data removed]",
      "text/plain": [
       "<Figure size 432x288 with 1 Axes>"
      ]
     },
     "metadata": {
      "needs_background": "light"
     },
     "output_type": "display_data"
    }
   ],
   "source": [
    "# plot scores\n",
    "cfs_flat = list(chain(*cfs))\n",
    "bfs_flat = list(chain(*bfs))\n",
    "\n",
    "plt.scatter(cfs_flat, bfs_flat)\n",
    "plt.show()"
   ]
  },
  {
   "cell_type": "markdown",
   "metadata": {},
   "source": [
    "It looks like combining queries really won't do much. Seems that the scores from each sub-query are already pretty aligned and we can't benefit from learning the boost values which tell us how to combine scores."
   ]
  },
  {
   "cell_type": "code",
   "execution_count": null,
   "metadata": {},
   "outputs": [],
   "source": []
  }
 ],
 "metadata": {
  "kernelspec": {
   "display_name": "Python 3",
   "language": "python",
   "name": "python3"
  },
  "language_info": {
   "codemirror_mode": {
    "name": "ipython",
    "version": 3
   },
   "file_extension": ".py",
   "mimetype": "text/x-python",
   "name": "python",
   "nbconvert_exporter": "python",
   "pygments_lexer": "ipython3",
   "version": "3.7.7"
  }
 },
 "nbformat": 4,
 "nbformat_minor": 4
}
