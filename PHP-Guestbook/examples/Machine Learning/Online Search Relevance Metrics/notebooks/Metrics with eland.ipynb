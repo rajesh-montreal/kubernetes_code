{
 "cells": [
  {
   "cell_type": "markdown",
   "metadata": {},
   "source": [
    "# Metrics with eland\n",
    "\n",
    "Use the [`eland` library](https://eland.readthedocs.io) to generate search metrics based on data in an Elasticsearch index. All indices and transforms should have already been created and run before this notebook can be used. We operate on the two main indices: events in `ecs-search-metrics` and the post-transform query-level metrics in `ecs-search-metrics_transform_queryid`."
   ]
  },
  {
   "cell_type": "code",
   "execution_count": 1,
   "metadata": {},
   "outputs": [],
   "source": [
    "%matplotlib inline\n",
    "\n",
    "import eland as el\n",
    "import numpy as np"
   ]
  },
  {
   "cell_type": "code",
   "execution_count": 2,
   "metadata": {},
   "outputs": [],
   "source": [
    "ES_URL = 'http://localhost:9200/'"
   ]
  },
  {
   "cell_type": "markdown",
   "metadata": {},
   "source": [
    "## Data Loading and Preparation"
   ]
  },
  {
   "cell_type": "markdown",
   "metadata": {},
   "source": [
    "### Event Index\n",
    "\n",
    "The `ecs-search-metrics` index contains the raw behavioural events: query, page and click."
   ]
  },
  {
   "cell_type": "code",
   "execution_count": 3,
   "metadata": {},
   "outputs": [],
   "source": [
    "df = el.read_es(ES_URL, 'ecs-search-metrics')"
   ]
  },
  {
   "cell_type": "code",
   "execution_count": 4,
   "metadata": {},
   "outputs": [
    {
     "data": {
      "text/plain": [
       "@timestamp                                    datetime64[ns]\n",
       "SearchMetrics.click.result.id                         object\n",
       "SearchMetrics.click.result.rank                        int64\n",
       "SearchMetrics.click.result.reciprocal_rank           float64\n",
       "SearchMetrics.query.id                                object\n",
       "SearchMetrics.query.page                               int64\n",
       "SearchMetrics.query.value                             object\n",
       "SearchMetrics.results.ids                             object\n",
       "SearchMetrics.results.size                             int64\n",
       "SearchMetrics.results.total                            int64\n",
       "SearchMetricsSimulation.ab.experiment                 object\n",
       "SearchMetricsSimulation.ab.variant                    object\n",
       "SearchMetricsSimulation.page_name                     object\n",
       "ecs.version                                           object\n",
       "event.action                                          object\n",
       "event.dataset                                         object\n",
       "event.duration                                         int64\n",
       "event.id                                              object\n",
       "source.geo.city_name                                  object\n",
       "source.geo.country_iso_code                           object\n",
       "source.geo.location                                   object\n",
       "source.user.id                                        object\n",
       "dtype: object"
      ]
     },
     "execution_count": 4,
     "metadata": {},
     "output_type": "execute_result"
    }
   ],
   "source": [
    "df.dtypes"
   ]
  },
  {
   "cell_type": "code",
   "execution_count": 5,
   "metadata": {},
   "outputs": [
    {
     "name": "stdout",
     "output_type": "stream",
     "text": [
      "es_index_pattern: ecs-search-metrics\n",
      "Index:\n",
      " es_index_field: _id\n",
      " is_source_field: False\n",
      "Mappings:\n",
      " capabilities:\n",
      "                                                                         es_field_name  is_source   es_dtype es_date_format        pd_dtype  is_searchable  is_aggregatable  is_scripted                  aggregatable_es_field_name\n",
      "@timestamp                                                                  @timestamp       True       date           None  datetime64[ns]           True             True        False                                  @timestamp\n",
      "SearchMetrics.click.result.id                            SearchMetrics.click.result.id       True    keyword           None          object           True             True        False               SearchMetrics.click.result.id\n",
      "SearchMetrics.click.result.rank                        SearchMetrics.click.result.rank       True       long           None           int64           True             True        False             SearchMetrics.click.result.rank\n",
      "SearchMetrics.click.result.reciprocal_rank  SearchMetrics.click.result.reciprocal_rank       True      float           None         float64           True             True        False  SearchMetrics.click.result.reciprocal_rank\n",
      "SearchMetrics.query.id                                          SearchMetrics.query.id       True    keyword           None          object           True             True        False                      SearchMetrics.query.id\n",
      "SearchMetrics.query.page                                      SearchMetrics.query.page       True       long           None           int64           True             True        False                    SearchMetrics.query.page\n",
      "SearchMetrics.query.value                                    SearchMetrics.query.value       True    keyword           None          object           True             True        False                   SearchMetrics.query.value\n",
      "SearchMetrics.results.ids                                    SearchMetrics.results.ids       True    keyword           None          object           True             True        False                   SearchMetrics.results.ids\n",
      "SearchMetrics.results.size                                  SearchMetrics.results.size       True       long           None           int64           True             True        False                  SearchMetrics.results.size\n",
      "SearchMetrics.results.total                                SearchMetrics.results.total       True       long           None           int64           True             True        False                 SearchMetrics.results.total\n",
      "SearchMetricsSimulation.ab.experiment            SearchMetricsSimulation.ab.experiment       True    keyword           None          object           True             True        False       SearchMetricsSimulation.ab.experiment\n",
      "SearchMetricsSimulation.ab.variant                  SearchMetricsSimulation.ab.variant       True    keyword           None          object           True             True        False          SearchMetricsSimulation.ab.variant\n",
      "SearchMetricsSimulation.page_name                    SearchMetricsSimulation.page_name       True    keyword           None          object           True             True        False           SearchMetricsSimulation.page_name\n",
      "ecs.version                                                                ecs.version       True    keyword           None          object           True             True        False                                 ecs.version\n",
      "event.action                                                              event.action       True    keyword           None          object           True             True        False                                event.action\n",
      "event.dataset                                                            event.dataset       True    keyword           None          object           True             True        False                               event.dataset\n",
      "event.duration                                                          event.duration       True       long           None           int64           True             True        False                              event.duration\n",
      "event.id                                                                      event.id       True    keyword           None          object           True             True        False                                    event.id\n",
      "source.geo.city_name                                              source.geo.city_name       True    keyword           None          object           True             True        False                        source.geo.city_name\n",
      "source.geo.country_iso_code                                source.geo.country_iso_code       True    keyword           None          object           True             True        False                 source.geo.country_iso_code\n",
      "source.geo.location                                                source.geo.location       True  geo_point           None          object           True             True        False                         source.geo.location\n",
      "source.user.id                                                          source.user.id       True    keyword           None          object           True             True        False                              source.user.id\n",
      "Operations:\n",
      " tasks: []\n",
      " size: None\n",
      " sort_params: None\n",
      " _source: ['@timestamp', 'SearchMetrics.click.result.id', 'SearchMetrics.click.result.rank', 'SearchMetrics.click.result.reciprocal_rank', 'SearchMetrics.query.id', 'SearchMetrics.query.page', 'SearchMetrics.query.value', 'SearchMetrics.results.ids', 'SearchMetrics.results.size', 'SearchMetrics.results.total', 'SearchMetricsSimulation.ab.experiment', 'SearchMetricsSimulation.ab.variant', 'SearchMetricsSimulation.page_name', 'ecs.version', 'event.action', 'event.dataset', 'event.duration', 'event.id', 'source.geo.city_name', 'source.geo.country_iso_code', 'source.geo.location', 'source.user.id']\n",
      " body: {}\n",
      " post_processing: []\n",
      "\n"
     ]
    }
   ],
   "source": [
    "print(df.info_es())"
   ]
  },
  {
   "cell_type": "code",
   "execution_count": 6,
   "metadata": {},
   "outputs": [
    {
     "data": {
      "text/html": [
       "<div>\n",
       "<style scoped>\n",
       "    .dataframe tbody tr th:only-of-type {\n",
       "        vertical-align: middle;\n",
       "    }\n",
       "\n",
       "    .dataframe tbody tr th {\n",
       "        vertical-align: top;\n",
       "    }\n",
       "\n",
       "    .dataframe thead th {\n",
       "        text-align: right;\n",
       "    }\n",
       "</style>\n",
       "<table border=\"1\" class=\"dataframe\">\n",
       "  <thead>\n",
       "    <tr style=\"text-align: right;\">\n",
       "      <th></th>\n",
       "      <th>@timestamp</th>\n",
       "      <th>SearchMetrics.click.result.id</th>\n",
       "      <th>SearchMetrics.click.result.rank</th>\n",
       "      <th>SearchMetrics.click.result.reciprocal_rank</th>\n",
       "      <th>SearchMetrics.query.id</th>\n",
       "      <th>SearchMetrics.query.page</th>\n",
       "      <th>SearchMetrics.query.value</th>\n",
       "      <th>SearchMetrics.results.ids</th>\n",
       "      <th>SearchMetrics.results.size</th>\n",
       "      <th>SearchMetrics.results.total</th>\n",
       "      <th>...</th>\n",
       "      <th>SearchMetricsSimulation.page_name</th>\n",
       "      <th>ecs.version</th>\n",
       "      <th>event.action</th>\n",
       "      <th>event.dataset</th>\n",
       "      <th>event.duration</th>\n",
       "      <th>event.id</th>\n",
       "      <th>source.geo.city_name</th>\n",
       "      <th>source.geo.country_iso_code</th>\n",
       "      <th>source.geo.location</th>\n",
       "      <th>source.user.id</th>\n",
       "    </tr>\n",
       "  </thead>\n",
       "  <tbody>\n",
       "    <tr>\n",
       "      <th>FbCZdHIBV286dKaWk0Zt</th>\n",
       "      <td>2019-11-15 23:39:37+00:00</td>\n",
       "      <td>NaN</td>\n",
       "      <td>NaN</td>\n",
       "      <td>NaN</td>\n",
       "      <td>23bd7c41-e138-4a75-b6f0-c58750d0ee17</td>\n",
       "      <td>1</td>\n",
       "      <td>By Very hospital possible base</td>\n",
       "      <td>[17, 86, 20, 48, 30, 51, 52, 62, 7, 60]</td>\n",
       "      <td>10.0</td>\n",
       "      <td>63.0</td>\n",
       "      <td>...</td>\n",
       "      <td>product_search_page</td>\n",
       "      <td>1.6.0-dev</td>\n",
       "      <td>SearchMetrics.query</td>\n",
       "      <td>SearchMetrics.query</td>\n",
       "      <td>254000000.0</td>\n",
       "      <td>23bd7c41-e138-4a75-b6f0-c58750d0ee17</td>\n",
       "      <td>Soroca</td>\n",
       "      <td>MD</td>\n",
       "      <td>48.15659,28.28489</td>\n",
       "      <td>0</td>\n",
       "    </tr>\n",
       "    <tr>\n",
       "      <th>FrCZdHIBV286dKaWk0aa</th>\n",
       "      <td>2019-11-15 23:39:37+00:00</td>\n",
       "      <td>NaN</td>\n",
       "      <td>NaN</td>\n",
       "      <td>NaN</td>\n",
       "      <td>23bd7c41-e138-4a75-b6f0-c58750d0ee17</td>\n",
       "      <td>2</td>\n",
       "      <td>NaN</td>\n",
       "      <td>[55, 56, 90, 26, 54, 15, 64, 6, 27, 97]</td>\n",
       "      <td>10.0</td>\n",
       "      <td>NaN</td>\n",
       "      <td>...</td>\n",
       "      <td>NaN</td>\n",
       "      <td>1.6.0-dev</td>\n",
       "      <td>SearchMetrics.page</td>\n",
       "      <td>SearchMetrics.page</td>\n",
       "      <td>274.0</td>\n",
       "      <td>279ace95-46cf-438e-a31e-bf82daa8f64b</td>\n",
       "      <td>NaN</td>\n",
       "      <td>NaN</td>\n",
       "      <td>NaN</td>\n",
       "      <td>NaN</td>\n",
       "    </tr>\n",
       "    <tr>\n",
       "      <th>F7CZdHIBV286dKaWk0bR</th>\n",
       "      <td>2019-11-15 23:40:34+00:00</td>\n",
       "      <td>55</td>\n",
       "      <td>11.0</td>\n",
       "      <td>0.090909</td>\n",
       "      <td>23bd7c41-e138-4a75-b6f0-c58750d0ee17</td>\n",
       "      <td>2</td>\n",
       "      <td>NaN</td>\n",
       "      <td>NaN</td>\n",
       "      <td>NaN</td>\n",
       "      <td>NaN</td>\n",
       "      <td>...</td>\n",
       "      <td>NaN</td>\n",
       "      <td>1.6.0-dev</td>\n",
       "      <td>SearchMetrics.click</td>\n",
       "      <td>SearchMetrics.click</td>\n",
       "      <td>NaN</td>\n",
       "      <td>87deadce-3e18-455f-9506-7c89aa1dba16</td>\n",
       "      <td>NaN</td>\n",
       "      <td>NaN</td>\n",
       "      <td>NaN</td>\n",
       "      <td>NaN</td>\n",
       "    </tr>\n",
       "    <tr>\n",
       "      <th>GLCZdHIBV286dKaWk0b-</th>\n",
       "      <td>2019-11-15 23:40:18+00:00</td>\n",
       "      <td>15</td>\n",
       "      <td>16.0</td>\n",
       "      <td>0.062500</td>\n",
       "      <td>23bd7c41-e138-4a75-b6f0-c58750d0ee17</td>\n",
       "      <td>2</td>\n",
       "      <td>NaN</td>\n",
       "      <td>NaN</td>\n",
       "      <td>NaN</td>\n",
       "      <td>NaN</td>\n",
       "      <td>...</td>\n",
       "      <td>NaN</td>\n",
       "      <td>1.6.0-dev</td>\n",
       "      <td>SearchMetrics.click</td>\n",
       "      <td>SearchMetrics.click</td>\n",
       "      <td>NaN</td>\n",
       "      <td>7344dede-169e-4d7f-aa93-221a2a32eac2</td>\n",
       "      <td>NaN</td>\n",
       "      <td>NaN</td>\n",
       "      <td>NaN</td>\n",
       "      <td>NaN</td>\n",
       "    </tr>\n",
       "    <tr>\n",
       "      <th>GbCZdHIBV286dKaWlEYs</th>\n",
       "      <td>2019-11-15 16:39:07+00:00</td>\n",
       "      <td>NaN</td>\n",
       "      <td>NaN</td>\n",
       "      <td>NaN</td>\n",
       "      <td>9b9e7d08-73bb-414c-9306-37f6bbb97943</td>\n",
       "      <td>1</td>\n",
       "      <td>Coach condition history window</td>\n",
       "      <td>[56, 26, 18, 76, 9, 16, 79, 61, 12, 57]</td>\n",
       "      <td>10.0</td>\n",
       "      <td>77.0</td>\n",
       "      <td>...</td>\n",
       "      <td>home_page_onebox</td>\n",
       "      <td>1.6.0-dev</td>\n",
       "      <td>SearchMetrics.query</td>\n",
       "      <td>SearchMetrics.query</td>\n",
       "      <td>44000000.0</td>\n",
       "      <td>9b9e7d08-73bb-414c-9306-37f6bbb97943</td>\n",
       "      <td>Karbala</td>\n",
       "      <td>IQ</td>\n",
       "      <td>32.61603,44.02488</td>\n",
       "      <td>1</td>\n",
       "    </tr>\n",
       "  </tbody>\n",
       "</table>\n",
       "</div>\n",
       "<p>5 rows × 22 columns</p>"
      ],
      "text/plain": [
       "                                    @timestamp SearchMetrics.click.result.id  \\\n",
       "FbCZdHIBV286dKaWk0Zt 2019-11-15 23:39:37+00:00                           NaN   \n",
       "FrCZdHIBV286dKaWk0aa 2019-11-15 23:39:37+00:00                           NaN   \n",
       "F7CZdHIBV286dKaWk0bR 2019-11-15 23:40:34+00:00                            55   \n",
       "GLCZdHIBV286dKaWk0b- 2019-11-15 23:40:18+00:00                            15   \n",
       "GbCZdHIBV286dKaWlEYs 2019-11-15 16:39:07+00:00                           NaN   \n",
       "\n",
       "                      SearchMetrics.click.result.rank  \\\n",
       "FbCZdHIBV286dKaWk0Zt                              NaN   \n",
       "FrCZdHIBV286dKaWk0aa                              NaN   \n",
       "F7CZdHIBV286dKaWk0bR                             11.0   \n",
       "GLCZdHIBV286dKaWk0b-                             16.0   \n",
       "GbCZdHIBV286dKaWlEYs                              NaN   \n",
       "\n",
       "                      SearchMetrics.click.result.reciprocal_rank  \\\n",
       "FbCZdHIBV286dKaWk0Zt                                         NaN   \n",
       "FrCZdHIBV286dKaWk0aa                                         NaN   \n",
       "F7CZdHIBV286dKaWk0bR                                    0.090909   \n",
       "GLCZdHIBV286dKaWk0b-                                    0.062500   \n",
       "GbCZdHIBV286dKaWlEYs                                         NaN   \n",
       "\n",
       "                                    SearchMetrics.query.id  \\\n",
       "FbCZdHIBV286dKaWk0Zt  23bd7c41-e138-4a75-b6f0-c58750d0ee17   \n",
       "FrCZdHIBV286dKaWk0aa  23bd7c41-e138-4a75-b6f0-c58750d0ee17   \n",
       "F7CZdHIBV286dKaWk0bR  23bd7c41-e138-4a75-b6f0-c58750d0ee17   \n",
       "GLCZdHIBV286dKaWk0b-  23bd7c41-e138-4a75-b6f0-c58750d0ee17   \n",
       "GbCZdHIBV286dKaWlEYs  9b9e7d08-73bb-414c-9306-37f6bbb97943   \n",
       "\n",
       "                      SearchMetrics.query.page  \\\n",
       "FbCZdHIBV286dKaWk0Zt                         1   \n",
       "FrCZdHIBV286dKaWk0aa                         2   \n",
       "F7CZdHIBV286dKaWk0bR                         2   \n",
       "GLCZdHIBV286dKaWk0b-                         2   \n",
       "GbCZdHIBV286dKaWlEYs                         1   \n",
       "\n",
       "                           SearchMetrics.query.value  \\\n",
       "FbCZdHIBV286dKaWk0Zt  By Very hospital possible base   \n",
       "FrCZdHIBV286dKaWk0aa                             NaN   \n",
       "F7CZdHIBV286dKaWk0bR                             NaN   \n",
       "GLCZdHIBV286dKaWk0b-                             NaN   \n",
       "GbCZdHIBV286dKaWlEYs  Coach condition history window   \n",
       "\n",
       "                                    SearchMetrics.results.ids  \\\n",
       "FbCZdHIBV286dKaWk0Zt  [17, 86, 20, 48, 30, 51, 52, 62, 7, 60]   \n",
       "FrCZdHIBV286dKaWk0aa  [55, 56, 90, 26, 54, 15, 64, 6, 27, 97]   \n",
       "F7CZdHIBV286dKaWk0bR                                      NaN   \n",
       "GLCZdHIBV286dKaWk0b-                                      NaN   \n",
       "GbCZdHIBV286dKaWlEYs  [56, 26, 18, 76, 9, 16, 79, 61, 12, 57]   \n",
       "\n",
       "                      SearchMetrics.results.size  SearchMetrics.results.total  \\\n",
       "FbCZdHIBV286dKaWk0Zt                        10.0                         63.0   \n",
       "FrCZdHIBV286dKaWk0aa                        10.0                          NaN   \n",
       "F7CZdHIBV286dKaWk0bR                         NaN                          NaN   \n",
       "GLCZdHIBV286dKaWk0b-                         NaN                          NaN   \n",
       "GbCZdHIBV286dKaWlEYs                        10.0                         77.0   \n",
       "\n",
       "                      ... SearchMetricsSimulation.page_name ecs.version  \\\n",
       "FbCZdHIBV286dKaWk0Zt  ...               product_search_page   1.6.0-dev   \n",
       "FrCZdHIBV286dKaWk0aa  ...                               NaN   1.6.0-dev   \n",
       "F7CZdHIBV286dKaWk0bR  ...                               NaN   1.6.0-dev   \n",
       "GLCZdHIBV286dKaWk0b-  ...                               NaN   1.6.0-dev   \n",
       "GbCZdHIBV286dKaWlEYs  ...                  home_page_onebox   1.6.0-dev   \n",
       "\n",
       "                             event.action        event.dataset event.duration  \\\n",
       "FbCZdHIBV286dKaWk0Zt  SearchMetrics.query  SearchMetrics.query    254000000.0   \n",
       "FrCZdHIBV286dKaWk0aa   SearchMetrics.page   SearchMetrics.page          274.0   \n",
       "F7CZdHIBV286dKaWk0bR  SearchMetrics.click  SearchMetrics.click            NaN   \n",
       "GLCZdHIBV286dKaWk0b-  SearchMetrics.click  SearchMetrics.click            NaN   \n",
       "GbCZdHIBV286dKaWlEYs  SearchMetrics.query  SearchMetrics.query     44000000.0   \n",
       "\n",
       "                                                  event.id  \\\n",
       "FbCZdHIBV286dKaWk0Zt  23bd7c41-e138-4a75-b6f0-c58750d0ee17   \n",
       "FrCZdHIBV286dKaWk0aa  279ace95-46cf-438e-a31e-bf82daa8f64b   \n",
       "F7CZdHIBV286dKaWk0bR  87deadce-3e18-455f-9506-7c89aa1dba16   \n",
       "GLCZdHIBV286dKaWk0b-  7344dede-169e-4d7f-aa93-221a2a32eac2   \n",
       "GbCZdHIBV286dKaWlEYs  9b9e7d08-73bb-414c-9306-37f6bbb97943   \n",
       "\n",
       "                      source.geo.city_name source.geo.country_iso_code  \\\n",
       "FbCZdHIBV286dKaWk0Zt                Soroca                          MD   \n",
       "FrCZdHIBV286dKaWk0aa                   NaN                         NaN   \n",
       "F7CZdHIBV286dKaWk0bR                   NaN                         NaN   \n",
       "GLCZdHIBV286dKaWk0b-                   NaN                         NaN   \n",
       "GbCZdHIBV286dKaWlEYs               Karbala                          IQ   \n",
       "\n",
       "                     source.geo.location source.user.id  \n",
       "FbCZdHIBV286dKaWk0Zt   48.15659,28.28489              0  \n",
       "FrCZdHIBV286dKaWk0aa                 NaN            NaN  \n",
       "F7CZdHIBV286dKaWk0bR                 NaN            NaN  \n",
       "GLCZdHIBV286dKaWk0b-                 NaN            NaN  \n",
       "GbCZdHIBV286dKaWlEYs   32.61603,44.02488              1  \n",
       "\n",
       "[5 rows x 22 columns]"
      ]
     },
     "execution_count": 6,
     "metadata": {},
     "output_type": "execute_result"
    }
   ],
   "source": [
    "df.head()"
   ]
  },
  {
   "cell_type": "markdown",
   "metadata": {},
   "source": [
    "What is the distribution of ranks of results clicked on?"
   ]
  },
  {
   "cell_type": "code",
   "execution_count": 7,
   "metadata": {},
   "outputs": [
    {
     "data": {
      "text/html": [
       "<div>\n",
       "<style scoped>\n",
       "    .dataframe tbody tr th:only-of-type {\n",
       "        vertical-align: middle;\n",
       "    }\n",
       "\n",
       "    .dataframe tbody tr th {\n",
       "        vertical-align: top;\n",
       "    }\n",
       "\n",
       "    .dataframe thead th {\n",
       "        text-align: right;\n",
       "    }\n",
       "</style>\n",
       "<table border=\"1\" class=\"dataframe\">\n",
       "  <thead>\n",
       "    <tr style=\"text-align: right;\">\n",
       "      <th></th>\n",
       "      <th>SearchMetrics.click.result.rank</th>\n",
       "    </tr>\n",
       "  </thead>\n",
       "  <tbody>\n",
       "    <tr>\n",
       "      <th>count</th>\n",
       "      <td>84.000000</td>\n",
       "    </tr>\n",
       "    <tr>\n",
       "      <th>mean</th>\n",
       "      <td>8.440476</td>\n",
       "    </tr>\n",
       "    <tr>\n",
       "      <th>std</th>\n",
       "      <td>5.423387</td>\n",
       "    </tr>\n",
       "    <tr>\n",
       "      <th>min</th>\n",
       "      <td>1.000000</td>\n",
       "    </tr>\n",
       "    <tr>\n",
       "      <th>25%</th>\n",
       "      <td>4.000000</td>\n",
       "    </tr>\n",
       "    <tr>\n",
       "      <th>50%</th>\n",
       "      <td>8.000000</td>\n",
       "    </tr>\n",
       "    <tr>\n",
       "      <th>75%</th>\n",
       "      <td>13.000000</td>\n",
       "    </tr>\n",
       "    <tr>\n",
       "      <th>max</th>\n",
       "      <td>20.000000</td>\n",
       "    </tr>\n",
       "  </tbody>\n",
       "</table>\n",
       "</div>"
      ],
      "text/plain": [
       "       SearchMetrics.click.result.rank\n",
       "count                        84.000000\n",
       "mean                          8.440476\n",
       "std                           5.423387\n",
       "min                           1.000000\n",
       "25%                           4.000000\n",
       "50%                           8.000000\n",
       "75%                          13.000000\n",
       "max                          20.000000"
      ]
     },
     "execution_count": 7,
     "metadata": {},
     "output_type": "execute_result"
    }
   ],
   "source": [
    "df['SearchMetrics.click.result.rank'].describe()"
   ]
  },
  {
   "cell_type": "code",
   "execution_count": 8,
   "metadata": {},
   "outputs": [
    {
     "data": {
      "text/plain": [
       "<matplotlib.axes._subplots.AxesSubplot at 0x11ec9d7d0>"
      ]
     },
     "execution_count": 8,
     "metadata": {},
     "output_type": "execute_result"
    },
    {
     "data": {
      "image/png": "[encoded data removed]",
      "text/plain": [
       "<Figure size 432x288 with 1 Axes>"
      ]
     },
     "metadata": {
      "needs_background": "light"
     },
     "output_type": "display_data"
    }
   ],
   "source": [
    "df['SearchMetrics.click.result.rank'].hist()"
   ]
  },
  {
   "cell_type": "markdown",
   "metadata": {},
   "source": [
    "How many users are in the dataset?"
   ]
  },
  {
   "cell_type": "code",
   "execution_count": 9,
   "metadata": {},
   "outputs": [
    {
     "data": {
      "text/plain": [
       "10"
      ]
     },
     "execution_count": 9,
     "metadata": {},
     "output_type": "execute_result"
    }
   ],
   "source": [
    "df['source.user.id'].nunique()"
   ]
  },
  {
   "cell_type": "markdown",
   "metadata": {},
   "source": [
    "How many of each event type?"
   ]
  },
  {
   "cell_type": "code",
   "execution_count": 10,
   "metadata": {},
   "outputs": [
    {
     "data": {
      "text/plain": [
       "SearchMetrics.click    84\n",
       "SearchMetrics.query    32\n",
       "SearchMetrics.page     12\n",
       "Name: event.action, dtype: int64"
      ]
     },
     "execution_count": 10,
     "metadata": {},
     "output_type": "execute_result"
    }
   ],
   "source": [
    "df['event.action'].value_counts()"
   ]
  },
  {
   "cell_type": "markdown",
   "metadata": {},
   "source": [
    "Split dataset into two dataframes based on action type."
   ]
  },
  {
   "cell_type": "code",
   "execution_count": 11,
   "metadata": {},
   "outputs": [],
   "source": [
    "df_queries = df[df['event.action'] == 'SearchMetrics.query']\n",
    "df_pages = df[df['event.action'] == 'SearchMetrics.page']\n",
    "df_clicks = df[df['event.action'] == 'SearchMetrics.click']"
   ]
  },
  {
   "cell_type": "markdown",
   "metadata": {},
   "source": [
    "What is the distribution of search result sizes in query events?"
   ]
  },
  {
   "cell_type": "code",
   "execution_count": 12,
   "metadata": {},
   "outputs": [
    {
     "data": {
      "text/plain": [
       "array([[<matplotlib.axes._subplots.AxesSubplot object at 0x120e33e50>]],\n",
       "      dtype=object)"
      ]
     },
     "execution_count": 12,
     "metadata": {},
     "output_type": "execute_result"
    },
    {
     "data": {
      "image/png": "[encoded data removed]",
      "text/plain": [
       "<Figure size 720x360 with 1 Axes>"
      ]
     },
     "metadata": {
      "needs_background": "light"
     },
     "output_type": "display_data"
    }
   ],
   "source": [
    "df_queries[['SearchMetrics.results.size']].hist(figsize=[10,5], bins=10)"
   ]
  },
  {
   "cell_type": "markdown",
   "metadata": {},
   "source": [
    "### Metrics Index\n",
    "\n",
    "The `ecs-search-metrics_transform_queryid` index is used to store per-query metrics."
   ]
  },
  {
   "cell_type": "code",
   "execution_count": 13,
   "metadata": {},
   "outputs": [],
   "source": [
    "df_tf_query = el.read_es(ES_URL, 'ecs-search-metrics_transform_queryid')"
   ]
  },
  {
   "cell_type": "code",
   "execution_count": 14,
   "metadata": {},
   "outputs": [
    {
     "data": {
      "text/html": [
       "<div>\n",
       "<style scoped>\n",
       "    .dataframe tbody tr th:only-of-type {\n",
       "        vertical-align: middle;\n",
       "    }\n",
       "\n",
       "    .dataframe tbody tr th {\n",
       "        vertical-align: top;\n",
       "    }\n",
       "\n",
       "    .dataframe thead th {\n",
       "        text-align: right;\n",
       "    }\n",
       "</style>\n",
       "<table border=\"1\" class=\"dataframe\">\n",
       "  <thead>\n",
       "    <tr style=\"text-align: right;\">\n",
       "      <th></th>\n",
       "      <th>SearchMetrics.query.id</th>\n",
       "      <th>metrics.clicks.count</th>\n",
       "      <th>metrics.clicks.exist_at_10</th>\n",
       "      <th>metrics.clicks.exist_at_3</th>\n",
       "      <th>metrics.clicks.max_page_clicked</th>\n",
       "      <th>metrics.clicks.max_reciprocal_rank</th>\n",
       "      <th>metrics.clicks.mean_reciprocal_rank</th>\n",
       "      <th>metrics.clicks.num_above_fold</th>\n",
       "      <th>metrics.clicks.num_below_fold</th>\n",
       "      <th>metrics.clicks.time_to_first_click</th>\n",
       "      <th>...</th>\n",
       "      <th>query_event.SearchMetricsSimulation.ab.variant</th>\n",
       "      <th>query_event.SearchMetricsSimulation.page_name</th>\n",
       "      <th>query_event.event.action</th>\n",
       "      <th>query_event.event.dataset</th>\n",
       "      <th>query_event.event.duration</th>\n",
       "      <th>query_event.event.id</th>\n",
       "      <th>query_event.source.geo.city_name</th>\n",
       "      <th>query_event.source.geo.country_iso_code</th>\n",
       "      <th>query_event.source.geo.location</th>\n",
       "      <th>query_event.source.user.id</th>\n",
       "    </tr>\n",
       "  </thead>\n",
       "  <tbody>\n",
       "    <tr>\n",
       "      <th>MIOMlGA6bpeYgWvvLXEuaqgAAAAAAAAA</th>\n",
       "      <td>065ef3cb-4e2d-422e-8459-2b0a17353cca</td>\n",
       "      <td>7.0</td>\n",
       "      <td>True</td>\n",
       "      <td>True</td>\n",
       "      <td>2.0</td>\n",
       "      <td>0.5</td>\n",
       "      <td>0.145088</td>\n",
       "      <td>3</td>\n",
       "      <td>4</td>\n",
       "      <td>14000.0</td>\n",
       "      <td>...</td>\n",
       "      <td>a</td>\n",
       "      <td>user_search_page</td>\n",
       "      <td>SearchMetrics.query</td>\n",
       "      <td>SearchMetrics.query</td>\n",
       "      <td>186000000</td>\n",
       "      <td>065ef3cb-4e2d-422e-8459-2b0a17353cca</td>\n",
       "      <td>Roi Et</td>\n",
       "      <td>TH</td>\n",
       "      <td>16.0567,103.65309</td>\n",
       "      <td>5</td>\n",
       "    </tr>\n",
       "    <tr>\n",
       "      <th>MBho1dYeVG3gUCDt7i7yJqQAAAAAAAAA</th>\n",
       "      <td>04f65713-25d6-4b3c-9d03-89527e61a5c2</td>\n",
       "      <td>0.0</td>\n",
       "      <td>False</td>\n",
       "      <td>False</td>\n",
       "      <td>NaN</td>\n",
       "      <td>NaN</td>\n",
       "      <td>NaN</td>\n",
       "      <td>0</td>\n",
       "      <td>0</td>\n",
       "      <td>NaN</td>\n",
       "      <td>...</td>\n",
       "      <td>a</td>\n",
       "      <td>user_search_page</td>\n",
       "      <td>SearchMetrics.query</td>\n",
       "      <td>SearchMetrics.query</td>\n",
       "      <td>259000000</td>\n",
       "      <td>04f65713-25d6-4b3c-9d03-89527e61a5c2</td>\n",
       "      <td>Bua Yai</td>\n",
       "      <td>TH</td>\n",
       "      <td>15.58552,102.42587</td>\n",
       "      <td>5</td>\n",
       "    </tr>\n",
       "    <tr>\n",
       "      <th>MfqN0amSAXcx9yIiEMtz0vAAAAAAAAAA</th>\n",
       "      <td>1b84bb80-2104-4155-89c6-d7c525d1d24b</td>\n",
       "      <td>0.0</td>\n",
       "      <td>False</td>\n",
       "      <td>False</td>\n",
       "      <td>NaN</td>\n",
       "      <td>NaN</td>\n",
       "      <td>NaN</td>\n",
       "      <td>0</td>\n",
       "      <td>0</td>\n",
       "      <td>NaN</td>\n",
       "      <td>...</td>\n",
       "      <td>control</td>\n",
       "      <td>user_search_page</td>\n",
       "      <td>SearchMetrics.query</td>\n",
       "      <td>SearchMetrics.query</td>\n",
       "      <td>48000000</td>\n",
       "      <td>1b84bb80-2104-4155-89c6-d7c525d1d24b</td>\n",
       "      <td>Karbala</td>\n",
       "      <td>IQ</td>\n",
       "      <td>32.61603,44.02488</td>\n",
       "      <td>1</td>\n",
       "    </tr>\n",
       "    <tr>\n",
       "      <th>MTEjDeSBb2BdFmpQc3RPCwEAAAAAAAAA</th>\n",
       "      <td>19e4da1c-8910-43c4-a9e1-34b4686efdea</td>\n",
       "      <td>2.0</td>\n",
       "      <td>True</td>\n",
       "      <td>True</td>\n",
       "      <td>1.0</td>\n",
       "      <td>0.5</td>\n",
       "      <td>0.333333</td>\n",
       "      <td>2</td>\n",
       "      <td>0</td>\n",
       "      <td>33000.0</td>\n",
       "      <td>...</td>\n",
       "      <td>control</td>\n",
       "      <td>user_search_page</td>\n",
       "      <td>SearchMetrics.query</td>\n",
       "      <td>SearchMetrics.query</td>\n",
       "      <td>236000000</td>\n",
       "      <td>19e4da1c-8910-43c4-a9e1-34b4686efdea</td>\n",
       "      <td>Al Jubayl</td>\n",
       "      <td>SA</td>\n",
       "      <td>27.0174,49.62251</td>\n",
       "      <td>7</td>\n",
       "    </tr>\n",
       "    <tr>\n",
       "      <th>MkU4hXtof9W_dNgWe3FuqBgAAAAAAAAA</th>\n",
       "      <td>22450eda-064d-4951-8d9c-d259200376bd</td>\n",
       "      <td>0.0</td>\n",
       "      <td>False</td>\n",
       "      <td>False</td>\n",
       "      <td>NaN</td>\n",
       "      <td>NaN</td>\n",
       "      <td>NaN</td>\n",
       "      <td>0</td>\n",
       "      <td>0</td>\n",
       "      <td>NaN</td>\n",
       "      <td>...</td>\n",
       "      <td>none</td>\n",
       "      <td>user_search_page</td>\n",
       "      <td>SearchMetrics.query</td>\n",
       "      <td>SearchMetrics.query</td>\n",
       "      <td>274000000</td>\n",
       "      <td>22450eda-064d-4951-8d9c-d259200376bd</td>\n",
       "      <td>Karbala</td>\n",
       "      <td>IQ</td>\n",
       "      <td>32.61603,44.02488</td>\n",
       "      <td>4</td>\n",
       "    </tr>\n",
       "  </tbody>\n",
       "</table>\n",
       "</div>\n",
       "<p>5 rows × 30 columns</p>"
      ],
      "text/plain": [
       "                                                SearchMetrics.query.id  \\\n",
       "MIOMlGA6bpeYgWvvLXEuaqgAAAAAAAAA  065ef3cb-4e2d-422e-8459-2b0a17353cca   \n",
       "MBho1dYeVG3gUCDt7i7yJqQAAAAAAAAA  04f65713-25d6-4b3c-9d03-89527e61a5c2   \n",
       "MfqN0amSAXcx9yIiEMtz0vAAAAAAAAAA  1b84bb80-2104-4155-89c6-d7c525d1d24b   \n",
       "MTEjDeSBb2BdFmpQc3RPCwEAAAAAAAAA  19e4da1c-8910-43c4-a9e1-34b4686efdea   \n",
       "MkU4hXtof9W_dNgWe3FuqBgAAAAAAAAA  22450eda-064d-4951-8d9c-d259200376bd   \n",
       "\n",
       "                                  metrics.clicks.count  \\\n",
       "MIOMlGA6bpeYgWvvLXEuaqgAAAAAAAAA                   7.0   \n",
       "MBho1dYeVG3gUCDt7i7yJqQAAAAAAAAA                   0.0   \n",
       "MfqN0amSAXcx9yIiEMtz0vAAAAAAAAAA                   0.0   \n",
       "MTEjDeSBb2BdFmpQc3RPCwEAAAAAAAAA                   2.0   \n",
       "MkU4hXtof9W_dNgWe3FuqBgAAAAAAAAA                   0.0   \n",
       "\n",
       "                                  metrics.clicks.exist_at_10  \\\n",
       "MIOMlGA6bpeYgWvvLXEuaqgAAAAAAAAA                        True   \n",
       "MBho1dYeVG3gUCDt7i7yJqQAAAAAAAAA                       False   \n",
       "MfqN0amSAXcx9yIiEMtz0vAAAAAAAAAA                       False   \n",
       "MTEjDeSBb2BdFmpQc3RPCwEAAAAAAAAA                        True   \n",
       "MkU4hXtof9W_dNgWe3FuqBgAAAAAAAAA                       False   \n",
       "\n",
       "                                  metrics.clicks.exist_at_3  \\\n",
       "MIOMlGA6bpeYgWvvLXEuaqgAAAAAAAAA                       True   \n",
       "MBho1dYeVG3gUCDt7i7yJqQAAAAAAAAA                      False   \n",
       "MfqN0amSAXcx9yIiEMtz0vAAAAAAAAAA                      False   \n",
       "MTEjDeSBb2BdFmpQc3RPCwEAAAAAAAAA                       True   \n",
       "MkU4hXtof9W_dNgWe3FuqBgAAAAAAAAA                      False   \n",
       "\n",
       "                                  metrics.clicks.max_page_clicked  \\\n",
       "MIOMlGA6bpeYgWvvLXEuaqgAAAAAAAAA                              2.0   \n",
       "MBho1dYeVG3gUCDt7i7yJqQAAAAAAAAA                              NaN   \n",
       "MfqN0amSAXcx9yIiEMtz0vAAAAAAAAAA                              NaN   \n",
       "MTEjDeSBb2BdFmpQc3RPCwEAAAAAAAAA                              1.0   \n",
       "MkU4hXtof9W_dNgWe3FuqBgAAAAAAAAA                              NaN   \n",
       "\n",
       "                                  metrics.clicks.max_reciprocal_rank  \\\n",
       "MIOMlGA6bpeYgWvvLXEuaqgAAAAAAAAA                                 0.5   \n",
       "MBho1dYeVG3gUCDt7i7yJqQAAAAAAAAA                                 NaN   \n",
       "MfqN0amSAXcx9yIiEMtz0vAAAAAAAAAA                                 NaN   \n",
       "MTEjDeSBb2BdFmpQc3RPCwEAAAAAAAAA                                 0.5   \n",
       "MkU4hXtof9W_dNgWe3FuqBgAAAAAAAAA                                 NaN   \n",
       "\n",
       "                                  metrics.clicks.mean_reciprocal_rank  \\\n",
       "MIOMlGA6bpeYgWvvLXEuaqgAAAAAAAAA                             0.145088   \n",
       "MBho1dYeVG3gUCDt7i7yJqQAAAAAAAAA                                  NaN   \n",
       "MfqN0amSAXcx9yIiEMtz0vAAAAAAAAAA                                  NaN   \n",
       "MTEjDeSBb2BdFmpQc3RPCwEAAAAAAAAA                             0.333333   \n",
       "MkU4hXtof9W_dNgWe3FuqBgAAAAAAAAA                                  NaN   \n",
       "\n",
       "                                  metrics.clicks.num_above_fold  \\\n",
       "MIOMlGA6bpeYgWvvLXEuaqgAAAAAAAAA                              3   \n",
       "MBho1dYeVG3gUCDt7i7yJqQAAAAAAAAA                              0   \n",
       "MfqN0amSAXcx9yIiEMtz0vAAAAAAAAAA                              0   \n",
       "MTEjDeSBb2BdFmpQc3RPCwEAAAAAAAAA                              2   \n",
       "MkU4hXtof9W_dNgWe3FuqBgAAAAAAAAA                              0   \n",
       "\n",
       "                                  metrics.clicks.num_below_fold  \\\n",
       "MIOMlGA6bpeYgWvvLXEuaqgAAAAAAAAA                              4   \n",
       "MBho1dYeVG3gUCDt7i7yJqQAAAAAAAAA                              0   \n",
       "MfqN0amSAXcx9yIiEMtz0vAAAAAAAAAA                              0   \n",
       "MTEjDeSBb2BdFmpQc3RPCwEAAAAAAAAA                              0   \n",
       "MkU4hXtof9W_dNgWe3FuqBgAAAAAAAAA                              0   \n",
       "\n",
       "                                  metrics.clicks.time_to_first_click  ...  \\\n",
       "MIOMlGA6bpeYgWvvLXEuaqgAAAAAAAAA                             14000.0  ...   \n",
       "MBho1dYeVG3gUCDt7i7yJqQAAAAAAAAA                                 NaN  ...   \n",
       "MfqN0amSAXcx9yIiEMtz0vAAAAAAAAAA                                 NaN  ...   \n",
       "MTEjDeSBb2BdFmpQc3RPCwEAAAAAAAAA                             33000.0  ...   \n",
       "MkU4hXtof9W_dNgWe3FuqBgAAAAAAAAA                                 NaN  ...   \n",
       "\n",
       "                                  query_event.SearchMetricsSimulation.ab.variant  \\\n",
       "MIOMlGA6bpeYgWvvLXEuaqgAAAAAAAAA                                               a   \n",
       "MBho1dYeVG3gUCDt7i7yJqQAAAAAAAAA                                               a   \n",
       "MfqN0amSAXcx9yIiEMtz0vAAAAAAAAAA                                         control   \n",
       "MTEjDeSBb2BdFmpQc3RPCwEAAAAAAAAA                                         control   \n",
       "MkU4hXtof9W_dNgWe3FuqBgAAAAAAAAA                                            none   \n",
       "\n",
       "                                  query_event.SearchMetricsSimulation.page_name  \\\n",
       "MIOMlGA6bpeYgWvvLXEuaqgAAAAAAAAA                               user_search_page   \n",
       "MBho1dYeVG3gUCDt7i7yJqQAAAAAAAAA                               user_search_page   \n",
       "MfqN0amSAXcx9yIiEMtz0vAAAAAAAAAA                               user_search_page   \n",
       "MTEjDeSBb2BdFmpQc3RPCwEAAAAAAAAA                               user_search_page   \n",
       "MkU4hXtof9W_dNgWe3FuqBgAAAAAAAAA                               user_search_page   \n",
       "\n",
       "                                 query_event.event.action  \\\n",
       "MIOMlGA6bpeYgWvvLXEuaqgAAAAAAAAA      SearchMetrics.query   \n",
       "MBho1dYeVG3gUCDt7i7yJqQAAAAAAAAA      SearchMetrics.query   \n",
       "MfqN0amSAXcx9yIiEMtz0vAAAAAAAAAA      SearchMetrics.query   \n",
       "MTEjDeSBb2BdFmpQc3RPCwEAAAAAAAAA      SearchMetrics.query   \n",
       "MkU4hXtof9W_dNgWe3FuqBgAAAAAAAAA      SearchMetrics.query   \n",
       "\n",
       "                                 query_event.event.dataset  \\\n",
       "MIOMlGA6bpeYgWvvLXEuaqgAAAAAAAAA       SearchMetrics.query   \n",
       "MBho1dYeVG3gUCDt7i7yJqQAAAAAAAAA       SearchMetrics.query   \n",
       "MfqN0amSAXcx9yIiEMtz0vAAAAAAAAAA       SearchMetrics.query   \n",
       "MTEjDeSBb2BdFmpQc3RPCwEAAAAAAAAA       SearchMetrics.query   \n",
       "MkU4hXtof9W_dNgWe3FuqBgAAAAAAAAA       SearchMetrics.query   \n",
       "\n",
       "                                  query_event.event.duration  \\\n",
       "MIOMlGA6bpeYgWvvLXEuaqgAAAAAAAAA                   186000000   \n",
       "MBho1dYeVG3gUCDt7i7yJqQAAAAAAAAA                   259000000   \n",
       "MfqN0amSAXcx9yIiEMtz0vAAAAAAAAAA                    48000000   \n",
       "MTEjDeSBb2BdFmpQc3RPCwEAAAAAAAAA                   236000000   \n",
       "MkU4hXtof9W_dNgWe3FuqBgAAAAAAAAA                   274000000   \n",
       "\n",
       "                                                  query_event.event.id  \\\n",
       "MIOMlGA6bpeYgWvvLXEuaqgAAAAAAAAA  065ef3cb-4e2d-422e-8459-2b0a17353cca   \n",
       "MBho1dYeVG3gUCDt7i7yJqQAAAAAAAAA  04f65713-25d6-4b3c-9d03-89527e61a5c2   \n",
       "MfqN0amSAXcx9yIiEMtz0vAAAAAAAAAA  1b84bb80-2104-4155-89c6-d7c525d1d24b   \n",
       "MTEjDeSBb2BdFmpQc3RPCwEAAAAAAAAA  19e4da1c-8910-43c4-a9e1-34b4686efdea   \n",
       "MkU4hXtof9W_dNgWe3FuqBgAAAAAAAAA  22450eda-064d-4951-8d9c-d259200376bd   \n",
       "\n",
       "                                 query_event.source.geo.city_name  \\\n",
       "MIOMlGA6bpeYgWvvLXEuaqgAAAAAAAAA                           Roi Et   \n",
       "MBho1dYeVG3gUCDt7i7yJqQAAAAAAAAA                          Bua Yai   \n",
       "MfqN0amSAXcx9yIiEMtz0vAAAAAAAAAA                          Karbala   \n",
       "MTEjDeSBb2BdFmpQc3RPCwEAAAAAAAAA                        Al Jubayl   \n",
       "MkU4hXtof9W_dNgWe3FuqBgAAAAAAAAA                          Karbala   \n",
       "\n",
       "                                  query_event.source.geo.country_iso_code  \\\n",
       "MIOMlGA6bpeYgWvvLXEuaqgAAAAAAAAA                                       TH   \n",
       "MBho1dYeVG3gUCDt7i7yJqQAAAAAAAAA                                       TH   \n",
       "MfqN0amSAXcx9yIiEMtz0vAAAAAAAAAA                                       IQ   \n",
       "MTEjDeSBb2BdFmpQc3RPCwEAAAAAAAAA                                       SA   \n",
       "MkU4hXtof9W_dNgWe3FuqBgAAAAAAAAA                                       IQ   \n",
       "\n",
       "                                  query_event.source.geo.location  \\\n",
       "MIOMlGA6bpeYgWvvLXEuaqgAAAAAAAAA                16.0567,103.65309   \n",
       "MBho1dYeVG3gUCDt7i7yJqQAAAAAAAAA               15.58552,102.42587   \n",
       "MfqN0amSAXcx9yIiEMtz0vAAAAAAAAAA                32.61603,44.02488   \n",
       "MTEjDeSBb2BdFmpQc3RPCwEAAAAAAAAA                 27.0174,49.62251   \n",
       "MkU4hXtof9W_dNgWe3FuqBgAAAAAAAAA                32.61603,44.02488   \n",
       "\n",
       "                                 query_event.source.user.id  \n",
       "MIOMlGA6bpeYgWvvLXEuaqgAAAAAAAAA                          5  \n",
       "MBho1dYeVG3gUCDt7i7yJqQAAAAAAAAA                          5  \n",
       "MfqN0amSAXcx9yIiEMtz0vAAAAAAAAAA                          1  \n",
       "MTEjDeSBb2BdFmpQc3RPCwEAAAAAAAAA                          7  \n",
       "MkU4hXtof9W_dNgWe3FuqBgAAAAAAAAA                          4  \n",
       "\n",
       "[5 rows x 30 columns]"
      ]
     },
     "execution_count": 14,
     "metadata": {},
     "output_type": "execute_result"
    }
   ],
   "source": [
    "df_tf_query.head()"
   ]
  },
  {
   "cell_type": "markdown",
   "metadata": {},
   "source": [
    "What are the distributions of the numeric fields?"
   ]
  },
  {
   "cell_type": "code",
   "execution_count": 15,
   "metadata": {},
   "outputs": [
    {
     "data": {
      "text/plain": [
       "array([[<matplotlib.axes._subplots.AxesSubplot object at 0x120f59090>,\n",
       "        <matplotlib.axes._subplots.AxesSubplot object at 0x12106a210>,\n",
       "        <matplotlib.axes._subplots.AxesSubplot object at 0x12109d890>],\n",
       "       [<matplotlib.axes._subplots.AxesSubplot object at 0x1210cef10>,\n",
       "        <matplotlib.axes._subplots.AxesSubplot object at 0x1211125d0>,\n",
       "        <matplotlib.axes._subplots.AxesSubplot object at 0x11eb90390>],\n",
       "       [<matplotlib.axes._subplots.AxesSubplot object at 0x120f42710>,\n",
       "        <matplotlib.axes._subplots.AxesSubplot object at 0x12113efd0>,\n",
       "        <matplotlib.axes._subplots.AxesSubplot object at 0x1211b1050>],\n",
       "       [<matplotlib.axes._subplots.AxesSubplot object at 0x1211e57d0>,\n",
       "        <matplotlib.axes._subplots.AxesSubplot object at 0x12125f410>,\n",
       "        <matplotlib.axes._subplots.AxesSubplot object at 0x121295a90>]],\n",
       "      dtype=object)"
      ]
     },
     "execution_count": 15,
     "metadata": {},
     "output_type": "execute_result"
    },
    {
     "data": {
      "image/png": "[encoded data removed]",
      "text/plain": [
       "<Figure size 1224x792 with 12 Axes>"
      ]
     },
     "metadata": {
      "needs_background": "light"
     },
     "output_type": "display_data"
    }
   ],
   "source": [
    "df_tf_query.select_dtypes(include=[np.number])\\\n",
    "  .drop(['query_event.SearchMetrics.query.page'], axis=1)\\\n",
    "  .hist(figsize=[17,11], bins=10)"
   ]
  },
  {
   "cell_type": "markdown",
   "metadata": {},
   "source": [
    "## Metrics\n",
    "\n",
    "We're going to start with some basic query metrics [1] (no session metrics):\n",
    "\n",
    "* Zero Result Rate: The fraction of queries for which no results were returned.\n",
    "* Abandonment Rate^: The fraction of queries for which no results were clicked on.\n",
    "* Clicks per Query^: The mean number of results that are clicked for each query.\n",
    "* Max Reciprocal Rank^†: The mean value of *1/r*, where *r* is the rank of the highest ranked result clicked on.\n",
    "* Mean Reciprocal Rank^†: The mean value of *Σ 1/rᵢ*, summing over the ranks *rᵢ* of all clicks for each query.\n",
    "* Time to First Click^†: The mean time from query being issued until first click on any result.\n",
    "* Time to Last Click^†: The mean time from query being issued until last click on any result.\n",
    "\n",
    "^ When computing the metrics marked with ^, we exclude queries with no results to avoid conflating these measures with zero result rate.  \n",
    "† When computing the metrics marked with †, we exclude queries with no clicks to avoid conflating these measures with abandonment rate.\n",
    "\n",
    "[1] F. Radlinski, M. Kurup, T. Joachims. [*How Does Clickthrough Data Reflect Retrieval Quality?*](https://dl.acm.org/citation.cfm?id=1458092). CIKM '08, 2008."
   ]
  },
  {
   "cell_type": "markdown",
   "metadata": {},
   "source": [
    "Given the above definitions, build datasets to base metrics off of."
   ]
  },
  {
   "cell_type": "code",
   "execution_count": 16,
   "metadata": {},
   "outputs": [],
   "source": [
    "# queries that have no results\n",
    "df_tf_query_without_results = df_tf_query[df_tf_query['query_event.SearchMetrics.results.size'] == 0]\n",
    "\n",
    "# queries that have results\n",
    "df_tf_query_with_results = df_tf_query[df_tf_query['query_event.SearchMetrics.results.size'] > 0]\n",
    "\n",
    "# queries that have results but no clicks\n",
    "df_tf_query_without_clicks = df_tf_query_with_results[df_tf_query_with_results['metrics.clicks.count'] == 0]\n",
    "\n",
    "# queries that have results and clicks\n",
    "df_tf_query_with_clicks = df_tf_query_with_results[df_tf_query_with_results['metrics.clicks.count'] > 0]"
   ]
  },
  {
   "cell_type": "markdown",
   "metadata": {},
   "source": [
    "Provide basic counts for all datasets."
   ]
  },
  {
   "cell_type": "code",
   "execution_count": 17,
   "metadata": {},
   "outputs": [],
   "source": [
    "num_queries = df_tf_query.shape[0]\n",
    "num_queries_without_results = df_tf_query_without_results.shape[0]\n",
    "num_queries_with_results = df_tf_query_with_results.shape[0]\n",
    "num_queries_without_clicks = df_tf_query_without_clicks.shape[0]\n",
    "num_queries_with_clicks = df_tf_query_with_clicks.shape[0]"
   ]
  },
  {
   "cell_type": "markdown",
   "metadata": {},
   "source": [
    "### Zero Result Rate\n",
    "\n",
    "Lower is better.  \n",
    "Best possible value: 0.0%"
   ]
  },
  {
   "cell_type": "code",
   "execution_count": 18,
   "metadata": {},
   "outputs": [
    {
     "name": "stdout",
     "output_type": "stream",
     "text": [
      "Zero result rate: 9.38%\n"
     ]
    }
   ],
   "source": [
    "zero_result_rate = num_queries_without_results / num_queries * 100\n",
    "\n",
    "print(f\"Zero result rate: {round(zero_result_rate, 2)}%\")"
   ]
  },
  {
   "cell_type": "markdown",
   "metadata": {},
   "source": [
    "### Abandonment Rate\n",
    "\n",
    "Lower is better.  \n",
    "Best possible value: 0.0%"
   ]
  },
  {
   "cell_type": "code",
   "execution_count": 19,
   "metadata": {},
   "outputs": [
    {
     "name": "stdout",
     "output_type": "stream",
     "text": [
      "Abandonment rate: 12.5%\n"
     ]
    }
   ],
   "source": [
    "abandonment_rate = num_queries_without_clicks / num_queries * 100\n",
    "\n",
    "print(f\"Abandonment rate: {round(abandonment_rate, 2)}%\")"
   ]
  },
  {
   "cell_type": "markdown",
   "metadata": {},
   "source": [
    "### Clicks per Query\n",
    "\n",
    "Lower is better.  \n",
    "Best possible value: 1.0"
   ]
  },
  {
   "cell_type": "code",
   "execution_count": 20,
   "metadata": {},
   "outputs": [
    {
     "name": "stdout",
     "output_type": "stream",
     "text": [
      "Clicks per Query: 2.9\n"
     ]
    }
   ],
   "source": [
    "mean_clicks_per_query = df_tf_query_with_results['metrics.clicks.count'].mean()\n",
    "\n",
    "print(f\"Clicks per Query: {round(mean_clicks_per_query, 2)}\")"
   ]
  },
  {
   "cell_type": "markdown",
   "metadata": {},
   "source": [
    "### Click Through Rate at Position 3 (CTR@3)\n",
    "\n",
    "Higher is better.  \n",
    "Best possible value: 1.0"
   ]
  },
  {
   "cell_type": "code",
   "execution_count": 21,
   "metadata": {},
   "outputs": [
    {
     "name": "stdout",
     "output_type": "stream",
     "text": [
      "CTR@3: 0.56\n"
     ]
    }
   ],
   "source": [
    "num_queries_with_clicks_at_3 = df_tf_query_with_clicks[df_tf_query_with_clicks['metrics.clicks.exist_at_3'] == True].shape[0]\n",
    "ctr_at_3 = num_queries_with_clicks_at_3 / num_queries_with_clicks\n",
    "\n",
    "print(f\"CTR@3: {round(ctr_at_3, 2)}\")"
   ]
  },
  {
   "cell_type": "markdown",
   "metadata": {},
   "source": [
    "### Max Reciprocal Rank\n",
    "\n",
    "Higher is better.  \n",
    "Best possible value: 1.0"
   ]
  },
  {
   "cell_type": "code",
   "execution_count": 22,
   "metadata": {},
   "outputs": [
    {
     "name": "stdout",
     "output_type": "stream",
     "text": [
      "Max Reciprocal Rank: 0.46\n"
     ]
    }
   ],
   "source": [
    "max_reciprocal_rank = df_tf_query_with_clicks['metrics.clicks.max_reciprocal_rank'].mean()\n",
    "\n",
    "print(f\"Max Reciprocal Rank: {round(max_reciprocal_rank, 2)}\")"
   ]
  },
  {
   "cell_type": "markdown",
   "metadata": {},
   "source": [
    "### Mean Reciprocal Rank\n",
    "\n",
    "Higher is better.  \n",
    "Best possible value: 1.0"
   ]
  },
  {
   "cell_type": "code",
   "execution_count": 23,
   "metadata": {},
   "outputs": [
    {
     "name": "stdout",
     "output_type": "stream",
     "text": [
      "Mean Per-Query Mean Reciprocal Rank: 0.28\n"
     ]
    }
   ],
   "source": [
    "mean_mean_reciprocal_rank = df_tf_query_with_clicks['metrics.clicks.mean_reciprocal_rank'].mean()\n",
    "\n",
    "print(f\"Mean Per-Query Mean Reciprocal Rank: {round(mean_mean_reciprocal_rank, 2)}\")"
   ]
  },
  {
   "cell_type": "markdown",
   "metadata": {},
   "source": [
    "### Time to First Click\n",
    "\n",
    "Lower is better.  \n",
    "Best possible value: 0.0"
   ]
  },
  {
   "cell_type": "code",
   "execution_count": 24,
   "metadata": {},
   "outputs": [
    {
     "name": "stdout",
     "output_type": "stream",
     "text": [
      "Time to First Click: 21.2 seconds\n"
     ]
    }
   ],
   "source": [
    "time_to_first_click = df_tf_query_with_clicks['metrics.clicks.time_to_first_click'].mean()\n",
    "\n",
    "print(f\"Time to First Click: {round(time_to_first_click / 1000, 2)} seconds\")"
   ]
  },
  {
   "cell_type": "markdown",
   "metadata": {},
   "source": [
    "### Time to Last Click\n",
    "\n",
    "Higher is better (infers many interesting results)."
   ]
  },
  {
   "cell_type": "code",
   "execution_count": 25,
   "metadata": {},
   "outputs": [
    {
     "name": "stdout",
     "output_type": "stream",
     "text": [
      "Time to Last Click: 50.52 seconds\n"
     ]
    }
   ],
   "source": [
    "time_to_last_click = df_tf_query_with_clicks['metrics.clicks.time_to_last_click'].mean()\n",
    "\n",
    "print(f\"Time to Last Click: {round(time_to_last_click / 1000, 2)} seconds\")"
   ]
  },
  {
   "cell_type": "code",
   "execution_count": null,
   "metadata": {},
   "outputs": [],
   "source": []
  }
 ],
 "metadata": {
  "kernelspec": {
   "display_name": "Python 3",
   "language": "python",
   "name": "python3"
  },
  "language_info": {
   "codemirror_mode": {
    "name": "ipython",
    "version": 3
   },
   "file_extension": ".py",
   "mimetype": "text/x-python",
   "name": "python",
   "nbconvert_exporter": "python",
   "pygments_lexer": "ipython3",
   "version": "3.7.7"
  }
 },
 "nbformat": 4,
 "nbformat_minor": 4
}
